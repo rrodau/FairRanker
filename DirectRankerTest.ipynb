{
 "cells": [
  {
   "cell_type": "code",
   "execution_count": 18,
   "metadata": {},
   "outputs": [],
   "source": [
    "import numpy as np\n",
    "import pandas as pd\n",
    "\n",
    "import torch\n",
    "import torch.optim as optim\n",
    "import torch.nn as nn\n",
    "from FairRanking.models.DirectRanker import directRanker\n",
    "from torch.utils.data import TensorDataset, DataLoader\n",
    "from sklearn.preprocessing import LabelEncoder, OneHotEncoder\n"
   ]
  },
  {
   "cell_type": "code",
   "execution_count": 2,
   "metadata": {},
   "outputs": [
    {
     "data": {
      "text/html": [
       "<div>\n",
       "<style scoped>\n",
       "    .dataframe tbody tr th:only-of-type {\n",
       "        vertical-align: middle;\n",
       "    }\n",
       "\n",
       "    .dataframe tbody tr th {\n",
       "        vertical-align: top;\n",
       "    }\n",
       "\n",
       "    .dataframe thead th {\n",
       "        text-align: right;\n",
       "    }\n",
       "</style>\n",
       "<table border=\"1\" class=\"dataframe\">\n",
       "  <thead>\n",
       "    <tr style=\"text-align: right;\">\n",
       "      <th></th>\n",
       "      <th>39</th>\n",
       "      <th>State-gov</th>\n",
       "      <th>77516</th>\n",
       "      <th>Bachelors</th>\n",
       "      <th>13</th>\n",
       "      <th>Never-married</th>\n",
       "      <th>Adm-clerical</th>\n",
       "      <th>Not-in-family</th>\n",
       "      <th>White</th>\n",
       "      <th>Male</th>\n",
       "      <th>2174</th>\n",
       "      <th>0</th>\n",
       "      <th>40</th>\n",
       "      <th>United-States</th>\n",
       "      <th>&lt;=50K</th>\n",
       "    </tr>\n",
       "  </thead>\n",
       "  <tbody>\n",
       "    <tr>\n",
       "      <th>0</th>\n",
       "      <td>50</td>\n",
       "      <td>Self-emp-not-inc</td>\n",
       "      <td>83311</td>\n",
       "      <td>Bachelors</td>\n",
       "      <td>13</td>\n",
       "      <td>Married-civ-spouse</td>\n",
       "      <td>Exec-managerial</td>\n",
       "      <td>Husband</td>\n",
       "      <td>White</td>\n",
       "      <td>Male</td>\n",
       "      <td>0</td>\n",
       "      <td>0</td>\n",
       "      <td>13</td>\n",
       "      <td>United-States</td>\n",
       "      <td>&lt;=50K</td>\n",
       "    </tr>\n",
       "    <tr>\n",
       "      <th>1</th>\n",
       "      <td>38</td>\n",
       "      <td>Private</td>\n",
       "      <td>215646</td>\n",
       "      <td>HS-grad</td>\n",
       "      <td>9</td>\n",
       "      <td>Divorced</td>\n",
       "      <td>Handlers-cleaners</td>\n",
       "      <td>Not-in-family</td>\n",
       "      <td>White</td>\n",
       "      <td>Male</td>\n",
       "      <td>0</td>\n",
       "      <td>0</td>\n",
       "      <td>40</td>\n",
       "      <td>United-States</td>\n",
       "      <td>&lt;=50K</td>\n",
       "    </tr>\n",
       "    <tr>\n",
       "      <th>2</th>\n",
       "      <td>53</td>\n",
       "      <td>Private</td>\n",
       "      <td>234721</td>\n",
       "      <td>11th</td>\n",
       "      <td>7</td>\n",
       "      <td>Married-civ-spouse</td>\n",
       "      <td>Handlers-cleaners</td>\n",
       "      <td>Husband</td>\n",
       "      <td>Black</td>\n",
       "      <td>Male</td>\n",
       "      <td>0</td>\n",
       "      <td>0</td>\n",
       "      <td>40</td>\n",
       "      <td>United-States</td>\n",
       "      <td>&lt;=50K</td>\n",
       "    </tr>\n",
       "    <tr>\n",
       "      <th>3</th>\n",
       "      <td>28</td>\n",
       "      <td>Private</td>\n",
       "      <td>338409</td>\n",
       "      <td>Bachelors</td>\n",
       "      <td>13</td>\n",
       "      <td>Married-civ-spouse</td>\n",
       "      <td>Prof-specialty</td>\n",
       "      <td>Wife</td>\n",
       "      <td>Black</td>\n",
       "      <td>Female</td>\n",
       "      <td>0</td>\n",
       "      <td>0</td>\n",
       "      <td>40</td>\n",
       "      <td>Cuba</td>\n",
       "      <td>&lt;=50K</td>\n",
       "    </tr>\n",
       "    <tr>\n",
       "      <th>4</th>\n",
       "      <td>37</td>\n",
       "      <td>Private</td>\n",
       "      <td>284582</td>\n",
       "      <td>Masters</td>\n",
       "      <td>14</td>\n",
       "      <td>Married-civ-spouse</td>\n",
       "      <td>Exec-managerial</td>\n",
       "      <td>Wife</td>\n",
       "      <td>White</td>\n",
       "      <td>Female</td>\n",
       "      <td>0</td>\n",
       "      <td>0</td>\n",
       "      <td>40</td>\n",
       "      <td>United-States</td>\n",
       "      <td>&lt;=50K</td>\n",
       "    </tr>\n",
       "  </tbody>\n",
       "</table>\n",
       "</div>"
      ],
      "text/plain": [
       "   39          State-gov   77516   Bachelors   13        Never-married  \\\n",
       "0  50   Self-emp-not-inc   83311   Bachelors   13   Married-civ-spouse   \n",
       "1  38            Private  215646     HS-grad    9             Divorced   \n",
       "2  53            Private  234721        11th    7   Married-civ-spouse   \n",
       "3  28            Private  338409   Bachelors   13   Married-civ-spouse   \n",
       "4  37            Private  284582     Masters   14   Married-civ-spouse   \n",
       "\n",
       "         Adm-clerical   Not-in-family   White     Male   2174   0   40  \\\n",
       "0     Exec-managerial         Husband   White     Male      0   0   13   \n",
       "1   Handlers-cleaners   Not-in-family   White     Male      0   0   40   \n",
       "2   Handlers-cleaners         Husband   Black     Male      0   0   40   \n",
       "3      Prof-specialty            Wife   Black   Female      0   0   40   \n",
       "4     Exec-managerial            Wife   White   Female      0   0   40   \n",
       "\n",
       "    United-States   <=50K  \n",
       "0   United-States   <=50K  \n",
       "1   United-States   <=50K  \n",
       "2   United-States   <=50K  \n",
       "3            Cuba   <=50K  \n",
       "4   United-States   <=50K  "
      ]
     },
     "execution_count": 2,
     "metadata": {},
     "output_type": "execute_result"
    }
   ],
   "source": [
    "\n",
    "file_path = './data/adult.csv'\n",
    "data = pd.read_csv(file_path)\n",
    "data.head()"
   ]
  },
  {
   "cell_type": "code",
   "execution_count": 20,
   "metadata": {},
   "outputs": [
    {
     "name": "stderr",
     "output_type": "stream",
     "text": [
      "/var/folders/nx/wz1vqyld77ncdjz679wgbm_m0000gn/T/ipykernel_5012/809402148.py:7: SettingWithCopyWarning: \n",
      "A value is trying to be set on a copy of a slice from a DataFrame.\n",
      "Try using .loc[row_indexer,col_indexer] = value instead\n",
      "\n",
      "See the caveats in the documentation: https://pandas.pydata.org/pandas-docs/stable/user_guide/indexing.html#returning-a-view-versus-a-copy\n",
      "  X_data[string_data] = X_data[string_data].apply(label_encoder_x.fit_transform)\n"
     ]
    }
   ],
   "source": [
    "label_encoder_x = LabelEncoder()\n",
    "label_encoder_y = LabelEncoder()\n",
    "X_data = data.loc[:, data.columns != ' <=50K']\n",
    "y_data = data[' <=50K']\n",
    "string_data = [' State-gov', ' Bachelors', ' Never-married', ' Adm-clerical', ' Not-in-family',\n",
    "               ' White', ' Male', ' United-States']\n",
    "X_data[string_data] = X_data[string_data].apply(label_encoder_x.fit_transform)\n",
    "y_data = label_encoder_y.fit_transform(y_data)"
   ]
  },
  {
   "cell_type": "code",
   "execution_count": 4,
   "metadata": {},
   "outputs": [
    {
     "data": {
      "text/html": [
       "<div>\n",
       "<style scoped>\n",
       "    .dataframe tbody tr th:only-of-type {\n",
       "        vertical-align: middle;\n",
       "    }\n",
       "\n",
       "    .dataframe tbody tr th {\n",
       "        vertical-align: top;\n",
       "    }\n",
       "\n",
       "    .dataframe thead th {\n",
       "        text-align: right;\n",
       "    }\n",
       "</style>\n",
       "<table border=\"1\" class=\"dataframe\">\n",
       "  <thead>\n",
       "    <tr style=\"text-align: right;\">\n",
       "      <th></th>\n",
       "      <th>39</th>\n",
       "      <th>State-gov</th>\n",
       "      <th>77516</th>\n",
       "      <th>Bachelors</th>\n",
       "      <th>13</th>\n",
       "      <th>Never-married</th>\n",
       "      <th>Adm-clerical</th>\n",
       "      <th>Not-in-family</th>\n",
       "      <th>White</th>\n",
       "      <th>Male</th>\n",
       "      <th>2174</th>\n",
       "      <th>0</th>\n",
       "      <th>40</th>\n",
       "      <th>United-States</th>\n",
       "      <th>y</th>\n",
       "    </tr>\n",
       "  </thead>\n",
       "  <tbody>\n",
       "    <tr>\n",
       "      <th>0</th>\n",
       "      <td>50</td>\n",
       "      <td>6</td>\n",
       "      <td>83311</td>\n",
       "      <td>9</td>\n",
       "      <td>13</td>\n",
       "      <td>2</td>\n",
       "      <td>4</td>\n",
       "      <td>0</td>\n",
       "      <td>4</td>\n",
       "      <td>1</td>\n",
       "      <td>0</td>\n",
       "      <td>0</td>\n",
       "      <td>13</td>\n",
       "      <td>39</td>\n",
       "      <td>0</td>\n",
       "    </tr>\n",
       "    <tr>\n",
       "      <th>1</th>\n",
       "      <td>38</td>\n",
       "      <td>4</td>\n",
       "      <td>215646</td>\n",
       "      <td>11</td>\n",
       "      <td>9</td>\n",
       "      <td>0</td>\n",
       "      <td>6</td>\n",
       "      <td>1</td>\n",
       "      <td>4</td>\n",
       "      <td>1</td>\n",
       "      <td>0</td>\n",
       "      <td>0</td>\n",
       "      <td>40</td>\n",
       "      <td>39</td>\n",
       "      <td>0</td>\n",
       "    </tr>\n",
       "    <tr>\n",
       "      <th>2</th>\n",
       "      <td>53</td>\n",
       "      <td>4</td>\n",
       "      <td>234721</td>\n",
       "      <td>1</td>\n",
       "      <td>7</td>\n",
       "      <td>2</td>\n",
       "      <td>6</td>\n",
       "      <td>0</td>\n",
       "      <td>2</td>\n",
       "      <td>1</td>\n",
       "      <td>0</td>\n",
       "      <td>0</td>\n",
       "      <td>40</td>\n",
       "      <td>39</td>\n",
       "      <td>0</td>\n",
       "    </tr>\n",
       "    <tr>\n",
       "      <th>3</th>\n",
       "      <td>28</td>\n",
       "      <td>4</td>\n",
       "      <td>338409</td>\n",
       "      <td>9</td>\n",
       "      <td>13</td>\n",
       "      <td>2</td>\n",
       "      <td>10</td>\n",
       "      <td>5</td>\n",
       "      <td>2</td>\n",
       "      <td>0</td>\n",
       "      <td>0</td>\n",
       "      <td>0</td>\n",
       "      <td>40</td>\n",
       "      <td>5</td>\n",
       "      <td>0</td>\n",
       "    </tr>\n",
       "    <tr>\n",
       "      <th>4</th>\n",
       "      <td>37</td>\n",
       "      <td>4</td>\n",
       "      <td>284582</td>\n",
       "      <td>12</td>\n",
       "      <td>14</td>\n",
       "      <td>2</td>\n",
       "      <td>4</td>\n",
       "      <td>5</td>\n",
       "      <td>4</td>\n",
       "      <td>0</td>\n",
       "      <td>0</td>\n",
       "      <td>0</td>\n",
       "      <td>40</td>\n",
       "      <td>39</td>\n",
       "      <td>0</td>\n",
       "    </tr>\n",
       "  </tbody>\n",
       "</table>\n",
       "</div>"
      ],
      "text/plain": [
       "   39   State-gov   77516   Bachelors   13   Never-married   Adm-clerical  \\\n",
       "0  50           6   83311           9   13               2              4   \n",
       "1  38           4  215646          11    9               0              6   \n",
       "2  53           4  234721           1    7               2              6   \n",
       "3  28           4  338409           9   13               2             10   \n",
       "4  37           4  284582          12   14               2              4   \n",
       "\n",
       "    Not-in-family   White   Male   2174   0   40   United-States  y  \n",
       "0               0       4      1      0   0   13              39  0  \n",
       "1               1       4      1      0   0   40              39  0  \n",
       "2               0       2      1      0   0   40              39  0  \n",
       "3               5       2      0      0   0   40               5  0  \n",
       "4               5       4      0      0   0   40              39  0  "
      ]
     },
     "execution_count": 4,
     "metadata": {},
     "output_type": "execute_result"
    }
   ],
   "source": [
    "full_df = pd.concat([X_data, pd.DataFrame(y_data, columns=['y'])], axis=1)\n",
    "full_df.head(5)"
   ]
  },
  {
   "cell_type": "code",
   "execution_count": 5,
   "metadata": {},
   "outputs": [],
   "source": [
    "X_data_0 = full_df[full_df['y'] == 0]\n",
    "X_data_1 = full_df[full_df['y'] == 1]"
   ]
  },
  {
   "cell_type": "code",
   "execution_count": 6,
   "metadata": {},
   "outputs": [
    {
     "data": {
      "text/plain": [
       "(24719, 7841)"
      ]
     },
     "execution_count": 6,
     "metadata": {},
     "output_type": "execute_result"
    }
   ],
   "source": [
    "len(X_data_0), len(X_data_1)"
   ]
  },
  {
   "cell_type": "code",
   "execution_count": 7,
   "metadata": {},
   "outputs": [],
   "source": [
    "X_data_0 = X_data_0[:len(X_data_1)]\n",
    "X_data_0 = X_data_0.loc[:, X_data_0.columns != 'y']\n",
    "X_data_1 = X_data_1.loc[:, X_data_1.columns != 'y']"
   ]
  },
  {
   "cell_type": "code",
   "execution_count": 8,
   "metadata": {},
   "outputs": [],
   "source": [
    "y = np.ones(len(X_data_1))"
   ]
  },
  {
   "cell_type": "code",
   "execution_count": 9,
   "metadata": {},
   "outputs": [
    {
     "data": {
      "text/html": [
       "<div>\n",
       "<style scoped>\n",
       "    .dataframe tbody tr th:only-of-type {\n",
       "        vertical-align: middle;\n",
       "    }\n",
       "\n",
       "    .dataframe tbody tr th {\n",
       "        vertical-align: top;\n",
       "    }\n",
       "\n",
       "    .dataframe thead th {\n",
       "        text-align: right;\n",
       "    }\n",
       "</style>\n",
       "<table border=\"1\" class=\"dataframe\">\n",
       "  <thead>\n",
       "    <tr style=\"text-align: right;\">\n",
       "      <th></th>\n",
       "      <th>39</th>\n",
       "      <th>State-gov</th>\n",
       "      <th>77516</th>\n",
       "      <th>Bachelors</th>\n",
       "      <th>13</th>\n",
       "      <th>Never-married</th>\n",
       "      <th>Adm-clerical</th>\n",
       "      <th>Not-in-family</th>\n",
       "      <th>White</th>\n",
       "      <th>Male</th>\n",
       "      <th>2174</th>\n",
       "      <th>0</th>\n",
       "      <th>40</th>\n",
       "      <th>United-States</th>\n",
       "    </tr>\n",
       "  </thead>\n",
       "  <tbody>\n",
       "    <tr>\n",
       "      <th>0</th>\n",
       "      <td>50</td>\n",
       "      <td>6</td>\n",
       "      <td>83311</td>\n",
       "      <td>9</td>\n",
       "      <td>13</td>\n",
       "      <td>2</td>\n",
       "      <td>4</td>\n",
       "      <td>0</td>\n",
       "      <td>4</td>\n",
       "      <td>1</td>\n",
       "      <td>0</td>\n",
       "      <td>0</td>\n",
       "      <td>13</td>\n",
       "      <td>39</td>\n",
       "    </tr>\n",
       "    <tr>\n",
       "      <th>1</th>\n",
       "      <td>38</td>\n",
       "      <td>4</td>\n",
       "      <td>215646</td>\n",
       "      <td>11</td>\n",
       "      <td>9</td>\n",
       "      <td>0</td>\n",
       "      <td>6</td>\n",
       "      <td>1</td>\n",
       "      <td>4</td>\n",
       "      <td>1</td>\n",
       "      <td>0</td>\n",
       "      <td>0</td>\n",
       "      <td>40</td>\n",
       "      <td>39</td>\n",
       "    </tr>\n",
       "    <tr>\n",
       "      <th>2</th>\n",
       "      <td>53</td>\n",
       "      <td>4</td>\n",
       "      <td>234721</td>\n",
       "      <td>1</td>\n",
       "      <td>7</td>\n",
       "      <td>2</td>\n",
       "      <td>6</td>\n",
       "      <td>0</td>\n",
       "      <td>2</td>\n",
       "      <td>1</td>\n",
       "      <td>0</td>\n",
       "      <td>0</td>\n",
       "      <td>40</td>\n",
       "      <td>39</td>\n",
       "    </tr>\n",
       "    <tr>\n",
       "      <th>3</th>\n",
       "      <td>28</td>\n",
       "      <td>4</td>\n",
       "      <td>338409</td>\n",
       "      <td>9</td>\n",
       "      <td>13</td>\n",
       "      <td>2</td>\n",
       "      <td>10</td>\n",
       "      <td>5</td>\n",
       "      <td>2</td>\n",
       "      <td>0</td>\n",
       "      <td>0</td>\n",
       "      <td>0</td>\n",
       "      <td>40</td>\n",
       "      <td>5</td>\n",
       "    </tr>\n",
       "    <tr>\n",
       "      <th>4</th>\n",
       "      <td>37</td>\n",
       "      <td>4</td>\n",
       "      <td>284582</td>\n",
       "      <td>12</td>\n",
       "      <td>14</td>\n",
       "      <td>2</td>\n",
       "      <td>4</td>\n",
       "      <td>5</td>\n",
       "      <td>4</td>\n",
       "      <td>0</td>\n",
       "      <td>0</td>\n",
       "      <td>0</td>\n",
       "      <td>40</td>\n",
       "      <td>39</td>\n",
       "    </tr>\n",
       "  </tbody>\n",
       "</table>\n",
       "</div>"
      ],
      "text/plain": [
       "   39   State-gov   77516   Bachelors   13   Never-married   Adm-clerical  \\\n",
       "0  50           6   83311           9   13               2              4   \n",
       "1  38           4  215646          11    9               0              6   \n",
       "2  53           4  234721           1    7               2              6   \n",
       "3  28           4  338409           9   13               2             10   \n",
       "4  37           4  284582          12   14               2              4   \n",
       "\n",
       "    Not-in-family   White   Male   2174   0   40   United-States  \n",
       "0               0       4      1      0   0   13              39  \n",
       "1               1       4      1      0   0   40              39  \n",
       "2               0       2      1      0   0   40              39  \n",
       "3               5       2      0      0   0   40               5  \n",
       "4               5       4      0      0   0   40              39  "
      ]
     },
     "execution_count": 9,
     "metadata": {},
     "output_type": "execute_result"
    }
   ],
   "source": [
    "X_data_0.head(5)"
   ]
  },
  {
   "cell_type": "code",
   "execution_count": 10,
   "metadata": {},
   "outputs": [],
   "source": [
    "X_tensor_0 = torch.tensor(X_data_0.values, dtype=torch.float32)\n",
    "X_tensor_1 = torch.tensor(X_data_1.values, dtype=torch.float32)\n",
    "y_tensor = torch.tensor(y, dtype=torch.float32)"
   ]
  },
  {
   "cell_type": "code",
   "execution_count": 11,
   "metadata": {},
   "outputs": [
    {
     "data": {
      "text/plain": [
       "(torch.Size([7841, 14]), torch.Size([7841, 14]), torch.Size([7841]))"
      ]
     },
     "execution_count": 11,
     "metadata": {},
     "output_type": "execute_result"
    }
   ],
   "source": [
    "X_tensor_0.shape, X_tensor_1.shape, y_tensor.shape"
   ]
  },
  {
   "cell_type": "code",
   "execution_count": 12,
   "metadata": {},
   "outputs": [
    {
     "data": {
      "text/plain": [
       "torch.float32"
      ]
     },
     "execution_count": 12,
     "metadata": {},
     "output_type": "execute_result"
    }
   ],
   "source": [
    "y_tensor.dtype"
   ]
  },
  {
   "cell_type": "code",
   "execution_count": 13,
   "metadata": {},
   "outputs": [
    {
     "data": {
      "text/plain": [
       "torch.Size([7841, 1])"
      ]
     },
     "execution_count": 13,
     "metadata": {},
     "output_type": "execute_result"
    }
   ],
   "source": [
    "(torch.unsqueeze(y_tensor, 1)).shape"
   ]
  },
  {
   "cell_type": "code",
   "execution_count": 12,
   "metadata": {},
   "outputs": [],
   "source": [
    "labels = torch.randint(0, 2, (y_tensor.size(0), ), dtype=torch.float32)\n",
    "test_x0 = X_tensor_0.clone()\n",
    "test_x1 = X_tensor_1.clone()\n",
    "for i, label in enumerate(labels):\n",
    "    if label == 0:\n",
    "        test_x0[i], test_x1[i] = test_x1[i], test_x0[i]"
   ]
  },
  {
   "cell_type": "code",
   "execution_count": 16,
   "metadata": {},
   "outputs": [
    {
     "name": "stdout",
     "output_type": "stream",
     "text": [
      "tensor(0.9945, grad_fn=<BinaryCrossEntropyWithLogitsBackward0>)\n",
      "tensor(0.)\n",
      "tensor(0.9758, grad_fn=<BinaryCrossEntropyWithLogitsBackward0>)\n",
      "tensor(0.)\n",
      "tensor(0.9758, grad_fn=<BinaryCrossEntropyWithLogitsBackward0>)\n",
      "tensor(0.)\n",
      "tensor(0.9758, grad_fn=<BinaryCrossEntropyWithLogitsBackward0>)\n",
      "tensor(0.)\n",
      "tensor(0.9758, grad_fn=<BinaryCrossEntropyWithLogitsBackward0>)\n",
      "tensor(0.)\n",
      "tensor(0.9758, grad_fn=<BinaryCrossEntropyWithLogitsBackward0>)\n",
      "tensor(0.)\n"
     ]
    },
    {
     "ename": "KeyboardInterrupt",
     "evalue": "",
     "output_type": "error",
     "traceback": [
      "\u001b[0;31m---------------------------------------------------------------------------\u001b[0m",
      "\u001b[0;31mKeyboardInterrupt\u001b[0m                         Traceback (most recent call last)",
      "\u001b[1;32m/Users/robert/Desktop/Bachelor/FairRanker/DirectRankerText.ipynb Cell 13\u001b[0m line \u001b[0;36m1\n\u001b[1;32m     <a href='vscode-notebook-cell:/Users/robert/Desktop/Bachelor/FairRanker/DirectRankerText.ipynb#W2sZmlsZQ%3D%3D?line=11'>12</a>\u001b[0m y_pred \u001b[39m=\u001b[39m torch\u001b[39m.\u001b[39msqueeze(y_pred)\n\u001b[1;32m     <a href='vscode-notebook-cell:/Users/robert/Desktop/Bachelor/FairRanker/DirectRankerText.ipynb#W2sZmlsZQ%3D%3D?line=12'>13</a>\u001b[0m loss \u001b[39m=\u001b[39m loss_fn(labels, y_pred)\n\u001b[0;32m---> <a href='vscode-notebook-cell:/Users/robert/Desktop/Bachelor/FairRanker/DirectRankerText.ipynb#W2sZmlsZQ%3D%3D?line=13'>14</a>\u001b[0m loss\u001b[39m.\u001b[39;49mbackward()\n\u001b[1;32m     <a href='vscode-notebook-cell:/Users/robert/Desktop/Bachelor/FairRanker/DirectRankerText.ipynb#W2sZmlsZQ%3D%3D?line=14'>15</a>\u001b[0m optimizer\u001b[39m.\u001b[39mstep()\n\u001b[1;32m     <a href='vscode-notebook-cell:/Users/robert/Desktop/Bachelor/FairRanker/DirectRankerText.ipynb#W2sZmlsZQ%3D%3D?line=15'>16</a>\u001b[0m \u001b[39mif\u001b[39;00m epoch \u001b[39m%\u001b[39m \u001b[39m100\u001b[39m \u001b[39m==\u001b[39m \u001b[39m0\u001b[39m:    \n",
      "File \u001b[0;32m/opt/anaconda3/envs/pytorchbook/lib/python3.10/site-packages/torch/_tensor.py:488\u001b[0m, in \u001b[0;36mTensor.backward\u001b[0;34m(self, gradient, retain_graph, create_graph, inputs)\u001b[0m\n\u001b[1;32m    478\u001b[0m \u001b[39mif\u001b[39;00m has_torch_function_unary(\u001b[39mself\u001b[39m):\n\u001b[1;32m    479\u001b[0m     \u001b[39mreturn\u001b[39;00m handle_torch_function(\n\u001b[1;32m    480\u001b[0m         Tensor\u001b[39m.\u001b[39mbackward,\n\u001b[1;32m    481\u001b[0m         (\u001b[39mself\u001b[39m,),\n\u001b[0;32m   (...)\u001b[0m\n\u001b[1;32m    486\u001b[0m         inputs\u001b[39m=\u001b[39minputs,\n\u001b[1;32m    487\u001b[0m     )\n\u001b[0;32m--> 488\u001b[0m torch\u001b[39m.\u001b[39;49mautograd\u001b[39m.\u001b[39;49mbackward(\n\u001b[1;32m    489\u001b[0m     \u001b[39mself\u001b[39;49m, gradient, retain_graph, create_graph, inputs\u001b[39m=\u001b[39;49minputs\n\u001b[1;32m    490\u001b[0m )\n",
      "File \u001b[0;32m/opt/anaconda3/envs/pytorchbook/lib/python3.10/site-packages/torch/autograd/__init__.py:197\u001b[0m, in \u001b[0;36mbackward\u001b[0;34m(tensors, grad_tensors, retain_graph, create_graph, grad_variables, inputs)\u001b[0m\n\u001b[1;32m    192\u001b[0m     retain_graph \u001b[39m=\u001b[39m create_graph\n\u001b[1;32m    194\u001b[0m \u001b[39m# The reason we repeat same the comment below is that\u001b[39;00m\n\u001b[1;32m    195\u001b[0m \u001b[39m# some Python versions print out the first line of a multi-line function\u001b[39;00m\n\u001b[1;32m    196\u001b[0m \u001b[39m# calls in the traceback and some print out the last line\u001b[39;00m\n\u001b[0;32m--> 197\u001b[0m Variable\u001b[39m.\u001b[39;49m_execution_engine\u001b[39m.\u001b[39;49mrun_backward(  \u001b[39m# Calls into the C++ engine to run the backward pass\u001b[39;49;00m\n\u001b[1;32m    198\u001b[0m     tensors, grad_tensors_, retain_graph, create_graph, inputs,\n\u001b[1;32m    199\u001b[0m     allow_unreachable\u001b[39m=\u001b[39;49m\u001b[39mTrue\u001b[39;49;00m, accumulate_grad\u001b[39m=\u001b[39;49m\u001b[39mTrue\u001b[39;49;00m)\n",
      "\u001b[0;31mKeyboardInterrupt\u001b[0m: "
     ]
    }
   ],
   "source": [
    "model = directRanker(num_features=14, hidden_layers=[10, 5])\n",
    "n_epochs = 1000\n",
    "#print(list(model.parameters()))\n",
    "lr = 0.1\n",
    "optimizer = optim.Adam(model.parameters(), lr=lr)\n",
    "loss_fn = nn.MSELoss(reduction='mean') \n",
    "# training\n",
    "for epoch in range(n_epochs):\n",
    "    model.train()\n",
    "    optimizer.zero_grad()\n",
    "    y_pred = model(test_x0, test_x1)\n",
    "    y_pred = torch.squeeze(y_pred)\n",
    "    loss = loss_fn(labels, y_pred)\n",
    "    loss.backward()\n",
    "    optimizer.step()\n",
    "    if epoch % 100 == 0:    \n",
    "        print(loss)\n",
    "        for name, param in model.named_parameters():\n",
    "            if param.grad is None:\n",
    "                print(name)\n",
    "            else:\n",
    "                print(param.grad.data.sum())\n",
    "                break\n"
   ]
  },
  {
   "cell_type": "code",
   "execution_count": null,
   "metadata": {},
   "outputs": [
    {
     "data": {
      "text/plain": [
       "215"
      ]
     },
     "execution_count": 17,
     "metadata": {},
     "output_type": "execute_result"
    }
   ],
   "source": [
    "model_parameters = filter(lambda p: p.requires_grad, model.parameters())\n",
    "params = sum([np.prod(p.size()) for p in model_parameters])\n",
    "params"
   ]
  },
  {
   "cell_type": "code",
   "execution_count": null,
   "metadata": {},
   "outputs": [
    {
     "data": {
      "text/plain": [
       "[Parameter containing:\n",
       " tensor([[-9.6254e-01, -7.7350e-01, -1.2496e+00,  2.3286e+00,  1.1255e+00,\n",
       "           7.7505e-01,  3.6949e-01, -6.2064e-01, -6.3214e-01, -6.8152e-01,\n",
       "           5.9237e-01,  8.9321e-01, -2.4131e+00,  5.9124e-01],\n",
       "         [-4.4335e-01,  1.4571e+00,  2.9654e-01,  5.6087e-01,  1.7136e+00,\n",
       "           1.1585e-01,  2.0781e-01,  3.4840e-01,  4.0644e-01, -7.1585e-01,\n",
       "          -9.1495e-01,  6.2616e-01, -7.6774e-01,  9.3473e-01],\n",
       "         [ 2.2000e+00,  1.1954e+00,  4.3366e-01, -9.4003e-01,  9.1544e-01,\n",
       "           4.7165e-01,  3.0606e-01, -1.1699e-01, -3.9122e-01,  1.7600e-01,\n",
       "           2.3944e-01,  1.6623e+00, -7.5292e-02, -1.1068e+00],\n",
       "         [-1.3098e-01,  3.9877e-01, -1.2702e+00,  1.3591e+00,  1.3170e+00,\n",
       "           1.3941e+00, -7.3637e-01, -1.2095e+00,  2.1095e+00, -6.4229e-01,\n",
       "          -2.3668e-01,  1.0204e+00, -2.9939e-01,  1.6530e+00],\n",
       "         [-2.2035e+00, -1.8394e+00, -1.1027e+00,  2.3633e+00, -1.2846e+00,\n",
       "          -7.7130e-01,  1.6945e+00,  1.0791e+00,  3.7288e-02,  1.6248e-01,\n",
       "           6.3443e-01,  5.1988e-01, -4.3134e-01, -1.6484e-01],\n",
       "         [ 1.3159e+00, -1.5375e+00, -2.2062e-01, -2.1954e-01, -1.7665e+00,\n",
       "          -4.3883e-01,  7.8865e-01,  2.8153e-01, -1.1195e+00,  2.9929e-02,\n",
       "           8.7156e-01, -1.0883e+00, -6.4014e-01, -3.0594e-01],\n",
       "         [ 4.6028e-01, -1.9623e+00,  1.0352e+00,  9.2453e-01, -8.7279e-02,\n",
       "           3.8441e-01,  2.4349e+00,  5.0699e-01, -1.6095e+00,  1.3406e+00,\n",
       "          -5.8051e-02,  3.8797e-01, -1.7604e+00, -8.3577e-01],\n",
       "         [ 2.0369e+00,  2.2868e+00, -6.3000e-01,  1.6360e-01,  3.7174e-01,\n",
       "           1.4152e-01,  1.7892e-01, -4.8937e-01,  1.2639e+00, -7.7617e-01,\n",
       "          -3.7983e-01, -3.3207e-01,  8.0182e-01,  6.9678e-01],\n",
       "         [ 9.8474e+01,  9.5097e+01, -9.9545e+01, -9.6488e+01, -9.8899e+01,\n",
       "          -9.8002e+01, -9.7888e+01, -9.9589e+01,  9.5264e+01, -9.1940e+01,\n",
       "           1.0147e+02, -9.9175e+01, -9.9111e+01, -9.7144e+01],\n",
       "         [ 9.0666e-01,  1.4528e+00, -1.3237e+00,  5.9625e-01, -5.0248e-03,\n",
       "           7.7289e-01,  9.2560e-01,  7.6189e-02,  8.7243e-01, -1.4834e+00,\n",
       "          -1.2410e+00, -5.5067e-01, -9.5588e-01,  3.4302e-01]],\n",
       "        requires_grad=True),\n",
       " Parameter containing:\n",
       " tensor([-5.2834e-02,  3.4274e-02,  2.0107e-01,  1.0174e-01,  2.0930e-01,\n",
       "          9.3018e-02,  2.4614e-01,  1.7862e-01, -9.1208e+01,  1.4866e-01],\n",
       "        requires_grad=True),\n",
       " Parameter containing:\n",
       " tensor([[ -99.2624,   99.9736,  100.5550, -101.5189, -100.9533,  -98.6287,\n",
       "            99.7452, -100.2013,   99.2363, -102.0335],\n",
       "         [  94.2545,  -89.9648,  -95.3119,   95.2341,   95.6590,   88.4341,\n",
       "           -95.9251,   96.3994, -100.8033,   97.1161],\n",
       "         [-102.2708,  100.4394,   99.9344, -100.0134,  -99.3109,  -98.2165,\n",
       "           100.5159,  -99.9146,  -99.6677, -100.9703],\n",
       "         [-101.2501, -100.0651,   98.3529,  -99.6309, -100.7954,   98.0289,\n",
       "           100.4521, -100.3893,  100.7390, -101.0941],\n",
       "         [  99.1904,  -98.1962,  -97.7525,   99.5967,   97.6155,   96.7653,\n",
       "           -98.0387,   97.8702, -100.8556,   98.4892]], requires_grad=True),\n",
       " Parameter containing:\n",
       " tensor([100.2419, -96.3913, 100.2344, 100.1215, -98.3340], requires_grad=True),\n",
       " Parameter containing:\n",
       " tensor([[ 98.6763, 100.4452, -99.4102,  99.1883, 102.3125]],\n",
       "        requires_grad=True),\n",
       " Parameter containing:\n",
       " tensor([[-0.3907, -0.3602,  0.4054,  0.2373, -0.0320]], requires_grad=True)]"
      ]
     },
     "execution_count": 18,
     "metadata": {},
     "output_type": "execute_result"
    }
   ],
   "source": [
    "list(model.parameters())"
   ]
  },
  {
   "cell_type": "code",
   "execution_count": null,
   "metadata": {},
   "outputs": [
    {
     "name": "stdout",
     "output_type": "stream",
     "text": [
      "layers.0.weight True\n",
      "layers.0.bias True\n",
      "layers.1.weight True\n",
      "layers.1.bias True\n",
      "ranking_layer.weight True\n",
      "ranking_layer_cls.weight True\n"
     ]
    }
   ],
   "source": [
    "for name, param in model.named_parameters():\n",
    "  print(name, param.requires_grad)"
   ]
  },
  {
   "cell_type": "code",
   "execution_count": null,
   "metadata": {},
   "outputs": [
    {
     "data": {
      "text/plain": [
       "torch.Size([14])"
      ]
     },
     "execution_count": 20,
     "metadata": {},
     "output_type": "execute_result"
    }
   ],
   "source": [
    "X_tensor_0[0].shape"
   ]
  },
  {
   "cell_type": "code",
   "execution_count": null,
   "metadata": {},
   "outputs": [
    {
     "data": {
      "text/plain": [
       "tensor([0.], grad_fn=<TanhBackward0>)"
      ]
     },
     "execution_count": 21,
     "metadata": {},
     "output_type": "execute_result"
    }
   ],
   "source": [
    "model.eval()\n",
    "y_pred = model.forward(X_tensor_0[4], X_tensor_1[9])\n",
    "y_pred"
   ]
  },
  {
   "cell_type": "code",
   "execution_count": null,
   "metadata": {},
   "outputs": [
    {
     "data": {
      "text/plain": [
       "tensor([0.], grad_fn=<TanhBackward0>)"
      ]
     },
     "execution_count": 22,
     "metadata": {},
     "output_type": "execute_result"
    }
   ],
   "source": [
    "model.eval()\n",
    "y_pred = model.forward(X_tensor_1[2], X_tensor_0[0])\n",
    "y_pred"
   ]
  },
  {
   "cell_type": "code",
   "execution_count": null,
   "metadata": {},
   "outputs": [
    {
     "name": "stdout",
     "output_type": "stream",
     "text": [
      "torch.Size([100, 10]) torch.Size([100, 10]) torch.Size([100])\n"
     ]
    }
   ],
   "source": [
    "def generate_direct_ranker_dataset(num_samples, num_features):\n",
    "    # Erzeugen von zwei Tensoren mit zufälligen Daten\n",
    "    tensor_A = torch.randn(num_samples, num_features, dtype=torch.float32)\n",
    "    tensor_B = torch.randn(num_samples, num_features, dtype=torch.float32)\n",
    "\n",
    "    # Erzeugen von zufälligen Labels (0 oder 1)\n",
    "    labels = torch.randint(0, 2, (num_samples,), dtype=torch.float32)\n",
    "\n",
    "    return tensor_A, tensor_B, labels\n",
    "\n",
    "# Beispiel: Erzeugen eines Datensatzes mit 100 Samples, jeder mit 10 Features\n",
    "num_samples = 100\n",
    "num_features = 10\n",
    "tensor_A, tensor_B, labels = generate_direct_ranker_dataset(num_samples, num_features)\n",
    "\n",
    "print(tensor_A.shape, tensor_B.shape, labels.shape)\n"
   ]
  },
  {
   "cell_type": "code",
   "execution_count": null,
   "metadata": {},
   "outputs": [
    {
     "name": "stdout",
     "output_type": "stream",
     "text": [
      "tensor(0.8468, grad_fn=<MseLossBackward0>)\n",
      "tensor(0.0015, grad_fn=<MseLossBackward0>)\n",
      "tensor(0.0008, grad_fn=<MseLossBackward0>)\n",
      "tensor(0.0008, grad_fn=<MseLossBackward0>)\n",
      "tensor(0.0002, grad_fn=<MseLossBackward0>)\n",
      "tensor(0.0003, grad_fn=<MseLossBackward0>)\n",
      "tensor(0.0002, grad_fn=<MseLossBackward0>)\n",
      "tensor(0.0002, grad_fn=<MseLossBackward0>)\n",
      "tensor(0.0007, grad_fn=<MseLossBackward0>)\n",
      "tensor(0.0005, grad_fn=<MseLossBackward0>)\n"
     ]
    }
   ],
   "source": [
    "model = directRanker(num_features=10)\n",
    "n_epochs = 1000\n",
    "#print(list(model.parameters()))\n",
    "lr = 0.1\n",
    "optimizer = optim.Adam(model.parameters(), lr=lr)\n",
    "loss_fn = nn.MSELoss(reduction='mean') \n",
    "# training\n",
    "for epoch in range(n_epochs):\n",
    "    model.train()\n",
    "    optimizer.zero_grad()\n",
    "    y_pred = model(tensor_A, tensor_B)\n",
    "    y_pred = torch.squeeze(y_pred)\n",
    "    loss = loss_fn(labels, y_pred)\n",
    "    loss.backward()\n",
    "    optimizer.step()\n",
    "    if epoch % 100 == 0:    \n",
    "        print(loss)"
   ]
  }
 ],
 "metadata": {
  "kernelspec": {
   "display_name": "pytorchbook",
   "language": "python",
   "name": "python3"
  },
  "language_info": {
   "codemirror_mode": {
    "name": "ipython",
    "version": 3
   },
   "file_extension": ".py",
   "mimetype": "text/x-python",
   "name": "python",
   "nbconvert_exporter": "python",
   "pygments_lexer": "ipython3",
   "version": "3.10.12"
  }
 },
 "nbformat": 4,
 "nbformat_minor": 2
}
