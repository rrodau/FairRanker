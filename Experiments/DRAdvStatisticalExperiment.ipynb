{
 "cells": [
  {
   "cell_type": "code",
   "execution_count": 2,
   "metadata": {},
   "outputs": [],
   "source": [
    "import numpy as np\n",
    "\n",
    "import torch\n",
    "import torch.optim as optim\n",
    "import torch.nn as nn\n",
    "from FairRanking.datasets.adult import Adult\n",
    "import random\n",
    "from FairRanking.datasets.law import Law\n",
    "from FairRanking.datasets.compas import Compas\n",
    "from FairRanking.datasets.wiki import Wiki\n",
    "from FairRanking.models.DirectRanker import DirectRanker\n",
    "from FairRanking.models.BaseDirectRanker import convert_data_to_tensors\n",
    "from FairRanking.models.DirectRankerAdv import DirectRankerAdv\n",
    "from FairRanking.TrainingFunctions import DirectRankerAdvTrain, DirectRankerTrain\n",
    "from FairRanking.helpers import rND_torch, nDCG_cls_no_model, auc_estimator, group_pairwise_accuracy, auc_estimator2, nDCG_cls"
   ]
  },
  {
   "cell_type": "code",
   "execution_count": 18,
   "metadata": {},
   "outputs": [],
   "source": [
    "path = '../Results/DirectRankerAdv/Compas/T-Test/Run02/results.csv'\n",
    "with open(path, 'w') as file:\n",
    "    file.write(f'nDCG,AUC,rND,GPA,Schedule\\n')"
   ]
  },
  {
   "cell_type": "code",
   "execution_count": 12,
   "metadata": {},
   "outputs": [],
   "source": [
    "def write_results(model, X, y, s, schedule, path):\n",
    "    model.eval()\n",
    "    with torch.no_grad():\n",
    "        pred = model.predict_proba(X)\n",
    "        ndcg_list = []\n",
    "        for _ in range(10):\n",
    "            ndcg_i = nDCG_cls(pred, y, esti=False, trec=False, at=500)\n",
    "            ndcg_list.append(ndcg_i)\n",
    "        ndcg = np.mean(ndcg_list)\n",
    "        auc = auc_estimator2(pred, y)\n",
    "        rnd_list = []\n",
    "        for _ in range(10):\n",
    "            rnd_list.append(rND_torch(pred, torch.argmax(s, dim=1)))\n",
    "        rnd = np.mean(rnd_list)\n",
    "        gpa = group_pairwise_accuracy(pred, y, s)\n",
    "        with open(path, 'a') as file:\n",
    "            file.write(f'{ndcg},{auc},{rnd},{gpa},{str(schedule).replace(\",\",\";\")}\\n')\n"
   ]
  },
  {
   "cell_type": "code",
   "execution_count": 20,
   "metadata": {},
   "outputs": [
    {
     "name": "stderr",
     "output_type": "stream",
     "text": [
      "/opt/anaconda3/envs/pytorchbook/lib/python3.10/site-packages/FairRanking/datasets/compas.py:24: FutureWarning: Passing a set as an indexer is deprecated and will raise in a future version. Use a list instead.\n",
      "  self.x_col = self.df.loc[:, x_name]\n"
     ]
    },
    {
     "name": "stdout",
     "output_type": "stream",
     "text": [
      "Finished Schedule: [1, 5] run 1\n",
      "Finished Schedule: [1, 5] run 2\n",
      "Finished Schedule: [1, 5] run 3\n",
      "Finished Schedule: [1, 5] run 4\n",
      "Finished Schedule: [1, 5] run 5\n",
      "Finished Schedule: [1, 5] run 6\n",
      "Finished Schedule: [1, 5] run 7\n",
      "Finished Schedule: [1, 5] run 8\n",
      "Finished Schedule: [1, 5] run 9\n",
      "Finished Schedule: [1, 5] run 10\n",
      "Finished Schedule: [1, 5] run 11\n",
      "Finished Schedule: [1, 5] run 12\n",
      "Finished Schedule: [1, 5] run 13\n",
      "Finished Schedule: [1, 5] run 14\n"
     ]
    },
    {
     "ename": "KeyboardInterrupt",
     "evalue": "",
     "output_type": "error",
     "traceback": [
      "\u001b[0;31m---------------------------------------------------------------------------\u001b[0m",
      "\u001b[0;31mKeyboardInterrupt\u001b[0m                         Traceback (most recent call last)",
      "\u001b[1;32m/Users/robert/Desktop/Bachelor/FairRanker/Experiments/DRAdvStatisticalExperiment.ipynb Cell 4\u001b[0m line \u001b[0;36m2\n\u001b[1;32m     <a href='vscode-notebook-cell:/Users/robert/Desktop/Bachelor/FairRanker/Experiments/DRAdvStatisticalExperiment.ipynb#W3sZmlsZQ%3D%3D?line=13'>14</a>\u001b[0m full_data \u001b[39m=\u001b[39m data\u001b[39m.\u001b[39mget_data(random_state\u001b[39m=\u001b[39mrandom\u001b[39m.\u001b[39mrandint(\u001b[39m1\u001b[39m, \u001b[39m100\u001b[39m))\n\u001b[1;32m     <a href='vscode-notebook-cell:/Users/robert/Desktop/Bachelor/FairRanker/Experiments/DRAdvStatisticalExperiment.ipynb#W3sZmlsZQ%3D%3D?line=14'>15</a>\u001b[0m model \u001b[39m=\u001b[39m DirectRankerAdv(num_features\u001b[39m=\u001b[39mfull_data[\u001b[39m0\u001b[39m][\u001b[39m0\u001b[39m]\u001b[39m.\u001b[39mshape[\u001b[39m1\u001b[39m],\n\u001b[1;32m     <a href='vscode-notebook-cell:/Users/robert/Desktop/Bachelor/FairRanker/Experiments/DRAdvStatisticalExperiment.ipynb#W3sZmlsZQ%3D%3D?line=15'>16</a>\u001b[0m                 kernel_initializer\u001b[39m=\u001b[39mnn\u001b[39m.\u001b[39minit\u001b[39m.\u001b[39mnormal_,\n\u001b[1;32m     <a href='vscode-notebook-cell:/Users/robert/Desktop/Bachelor/FairRanker/Experiments/DRAdvStatisticalExperiment.ipynb#W3sZmlsZQ%3D%3D?line=16'>17</a>\u001b[0m                 hidden_layers\u001b[39m=\u001b[39mhidden_layers,\n\u001b[0;32m   (...)\u001b[0m\n\u001b[1;32m     <a href='vscode-notebook-cell:/Users/robert/Desktop/Bachelor/FairRanker/Experiments/DRAdvStatisticalExperiment.ipynb#W3sZmlsZQ%3D%3D?line=19'>20</a>\u001b[0m                 random_seed\u001b[39m=\u001b[39mrandom\u001b[39m.\u001b[39mrandom()\n\u001b[1;32m     <a href='vscode-notebook-cell:/Users/robert/Desktop/Bachelor/FairRanker/Experiments/DRAdvStatisticalExperiment.ipynb#W3sZmlsZQ%3D%3D?line=20'>21</a>\u001b[0m         )\n\u001b[0;32m---> <a href='vscode-notebook-cell:/Users/robert/Desktop/Bachelor/FairRanker/Experiments/DRAdvStatisticalExperiment.ipynb#W3sZmlsZQ%3D%3D?line=21'>22</a>\u001b[0m model \u001b[39m=\u001b[39m DirectRankerAdvTrain\u001b[39m.\u001b[39;49mtrain(model, full_data, n_epochs\u001b[39m=\u001b[39;49mn_epochs, schedule\u001b[39m=\u001b[39;49mschedule, threshold\u001b[39m=\u001b[39;49m\u001b[39m0.0\u001b[39;49m, adv_lr\u001b[39m=\u001b[39;49madv_lr, main_lr\u001b[39m=\u001b[39;49mmain_lr, print_res\u001b[39m=\u001b[39;49m\u001b[39mFalse\u001b[39;49;00m, random_seed\u001b[39m=\u001b[39;49mrandom\u001b[39m.\u001b[39;49mrandom())\n\u001b[1;32m     <a href='vscode-notebook-cell:/Users/robert/Desktop/Bachelor/FairRanker/Experiments/DRAdvStatisticalExperiment.ipynb#W3sZmlsZQ%3D%3D?line=22'>23</a>\u001b[0m write_results(model, full_data[\u001b[39m2\u001b[39m][\u001b[39m0\u001b[39m], full_data[\u001b[39m2\u001b[39m][\u001b[39m1\u001b[39m], full_data[\u001b[39m2\u001b[39m][\u001b[39m2\u001b[39m], schedule, path)\n\u001b[1;32m     <a href='vscode-notebook-cell:/Users/robert/Desktop/Bachelor/FairRanker/Experiments/DRAdvStatisticalExperiment.ipynb#W3sZmlsZQ%3D%3D?line=23'>24</a>\u001b[0m \u001b[39mprint\u001b[39m(\u001b[39mf\u001b[39m\u001b[39m'\u001b[39m\u001b[39mFinished Schedule: \u001b[39m\u001b[39m{\u001b[39;00mschedule\u001b[39m}\u001b[39;00m\u001b[39m run \u001b[39m\u001b[39m{\u001b[39;00mi\u001b[39m+\u001b[39m\u001b[39m1\u001b[39m\u001b[39m}\u001b[39;00m\u001b[39m'\u001b[39m)\n",
      "File \u001b[0;32m/opt/anaconda3/envs/pytorchbook/lib/python3.10/site-packages/FairRanking/TrainingFunctions/DirectRankerAdvTrain.py:88\u001b[0m, in \u001b[0;36mtrain\u001b[0;34m(model, data, main_optimizer, adv_optimizer, lr_decay, lr_step, schedule, main_lr, adv_lr, threshold, n_epochs, use_validation, random_seed, is_query_dataset, print_res)\u001b[0m\n\u001b[1;32m     86\u001b[0m     loss \u001b[39m=\u001b[39m main_phase(model, feed_dict[\u001b[39m'\u001b[39m\u001b[39mx0\u001b[39m\u001b[39m'\u001b[39m], feed_dict[\u001b[39m'\u001b[39m\u001b[39mx1\u001b[39m\u001b[39m'\u001b[39m], feed_dict[\u001b[39m'\u001b[39m\u001b[39my_train\u001b[39m\u001b[39m'\u001b[39m], main_optimizer, loss_fn)\n\u001b[1;32m     87\u001b[0m \u001b[39mfor\u001b[39;00m _ \u001b[39min\u001b[39;00m \u001b[39mrange\u001b[39m(schedule[\u001b[39m1\u001b[39m]):\n\u001b[0;32m---> 88\u001b[0m     adv_loss \u001b[39m=\u001b[39m adversarial_phase(model, feed_dict[\u001b[39m'\u001b[39;49m\u001b[39mx0\u001b[39;49m\u001b[39m'\u001b[39;49m], feed_dict[\u001b[39m'\u001b[39;49m\u001b[39mx1\u001b[39;49m\u001b[39m'\u001b[39;49m], feed_dict[\u001b[39m'\u001b[39;49m\u001b[39my_bias_0\u001b[39;49m\u001b[39m'\u001b[39;49m], feed_dict[\u001b[39m'\u001b[39;49m\u001b[39my_bias_1\u001b[39;49m\u001b[39m'\u001b[39;49m], adv_optimizer, sensitive_loss_fn, threshold)  \n\u001b[1;32m     89\u001b[0m \u001b[39m#if schedule_list[epoch % n_schedules] == 'main':\u001b[39;00m\n\u001b[1;32m     90\u001b[0m \u001b[39m#    loss = main_phase(model, feed_dict['x0'], feed_dict['x1'], feed_dict['y_train'], main_optimizer, loss_fn)\u001b[39;00m\n\u001b[1;32m     91\u001b[0m \u001b[39m#else:\u001b[39;00m\n\u001b[1;32m     92\u001b[0m \u001b[39m#    adv_loss = adversarial_phase(model, feed_dict['x0'], feed_dict['x1'], feed_dict['y_bias_0'], feed_dict['y_bias_1'], adv_optimizer, sensitive_loss_fn, threshold)\u001b[39;00m\n\u001b[1;32m     93\u001b[0m \u001b[39mif\u001b[39;00m epoch \u001b[39m%\u001b[39m \u001b[39m100\u001b[39m \u001b[39m==\u001b[39m \u001b[39m0\u001b[39m \u001b[39mand\u001b[39;00m print_res:\n",
      "File \u001b[0;32m/opt/anaconda3/envs/pytorchbook/lib/python3.10/site-packages/FairRanking/TrainingFunctions/DirectRankerAdvTrain.py:21\u001b[0m, in \u001b[0;36madversarial_phase\u001b[0;34m(model, X_train0, X_train1, s_train0, s_train1, optimizer, loss_fn, loss_threshold)\u001b[0m\n\u001b[1;32m     20\u001b[0m \u001b[39mdef\u001b[39;00m \u001b[39madversarial_phase\u001b[39m(model, X_train0, X_train1, s_train0, s_train1, optimizer, loss_fn, loss_threshold):\n\u001b[0;32m---> 21\u001b[0m     sensitive_pred0, sensitive_pred1 \u001b[39m=\u001b[39m model\u001b[39m.\u001b[39;49mforward_2(X_train0, X_train1)\n\u001b[1;32m     22\u001b[0m     sensitive_loss \u001b[39m=\u001b[39m loss_fn(torch\u001b[39m.\u001b[39mcat((sensitive_pred0, sensitive_pred1), dim\u001b[39m=\u001b[39m\u001b[39m0\u001b[39m), torch\u001b[39m.\u001b[39mcat((s_train0, s_train1), dim\u001b[39m=\u001b[39m\u001b[39m0\u001b[39m))\n\u001b[1;32m     23\u001b[0m     sensitive_loss\u001b[39m.\u001b[39mbackward()\n",
      "File \u001b[0;32m/opt/anaconda3/envs/pytorchbook/lib/python3.10/site-packages/FairRanking/models/DirectRankerAdv.py:141\u001b[0m, in \u001b[0;36mDirectRankerAdv.forward_2\u001b[0;34m(self, x0, x1)\u001b[0m\n\u001b[1;32m    139\u001b[0m \u001b[39m# Process through the Debias Layers which predict the sensible attribute\u001b[39;00m\n\u001b[1;32m    140\u001b[0m nn_pred_sensitive_0 \u001b[39m=\u001b[39m \u001b[39mself\u001b[39m\u001b[39m.\u001b[39mforward_debias_layers(in_0)\n\u001b[0;32m--> 141\u001b[0m nn_pred_sensitive_1 \u001b[39m=\u001b[39m \u001b[39mself\u001b[39;49m\u001b[39m.\u001b[39;49mforward_debias_layers(in_1)\n\u001b[1;32m    143\u001b[0m \u001b[39mreturn\u001b[39;00m nn_pred_sensitive_0, nn_pred_sensitive_1\n",
      "File \u001b[0;32m/opt/anaconda3/envs/pytorchbook/lib/python3.10/site-packages/FairRanking/models/DirectRankerAdv.py:176\u001b[0m, in \u001b[0;36mDirectRankerAdv.forward_debias_layers\u001b[0;34m(self, x)\u001b[0m\n\u001b[1;32m    164\u001b[0m \u001b[39m\u001b[39m\u001b[39m\"\"\"\u001b[39;00m\n\u001b[1;32m    165\u001b[0m \u001b[39mHelper function for the second forward pass. It passes the input into the layers for the\u001b[39;00m\n\u001b[1;32m    166\u001b[0m \u001b[39mpredicted sensible attributes\u001b[39;00m\n\u001b[0;32m   (...)\u001b[0m\n\u001b[1;32m    173\u001b[0m \u001b[39m- torch.Tensor: The prediction of the sensible attribute\u001b[39;00m\n\u001b[1;32m    174\u001b[0m \u001b[39m\"\"\"\u001b[39;00m\n\u001b[1;32m    175\u001b[0m \u001b[39mfor\u001b[39;00m layer \u001b[39min\u001b[39;00m \u001b[39mself\u001b[39m\u001b[39m.\u001b[39mdebias_layers[:\u001b[39m-\u001b[39m\u001b[39m1\u001b[39m]:\n\u001b[0;32m--> 176\u001b[0m     x \u001b[39m=\u001b[39m \u001b[39mself\u001b[39m\u001b[39m.\u001b[39mfeature_activation(layer(x))\n\u001b[1;32m    177\u001b[0m \u001b[39mreturn\u001b[39;00m \u001b[39mself\u001b[39m\u001b[39m.\u001b[39mdebias_layers[\u001b[39m-\u001b[39m\u001b[39m1\u001b[39m](x)\n",
      "File \u001b[0;32m/opt/anaconda3/envs/pytorchbook/lib/python3.10/site-packages/torch/nn/modules/module.py:1194\u001b[0m, in \u001b[0;36mModule._call_impl\u001b[0;34m(self, *input, **kwargs)\u001b[0m\n\u001b[1;32m   1190\u001b[0m \u001b[39m# If we don't have any hooks, we want to skip the rest of the logic in\u001b[39;00m\n\u001b[1;32m   1191\u001b[0m \u001b[39m# this function, and just call forward.\u001b[39;00m\n\u001b[1;32m   1192\u001b[0m \u001b[39mif\u001b[39;00m \u001b[39mnot\u001b[39;00m (\u001b[39mself\u001b[39m\u001b[39m.\u001b[39m_backward_hooks \u001b[39mor\u001b[39;00m \u001b[39mself\u001b[39m\u001b[39m.\u001b[39m_forward_hooks \u001b[39mor\u001b[39;00m \u001b[39mself\u001b[39m\u001b[39m.\u001b[39m_forward_pre_hooks \u001b[39mor\u001b[39;00m _global_backward_hooks\n\u001b[1;32m   1193\u001b[0m         \u001b[39mor\u001b[39;00m _global_forward_hooks \u001b[39mor\u001b[39;00m _global_forward_pre_hooks):\n\u001b[0;32m-> 1194\u001b[0m     \u001b[39mreturn\u001b[39;00m forward_call(\u001b[39m*\u001b[39;49m\u001b[39minput\u001b[39;49m, \u001b[39m*\u001b[39;49m\u001b[39m*\u001b[39;49mkwargs)\n\u001b[1;32m   1195\u001b[0m \u001b[39m# Do not call functions when jit is used\u001b[39;00m\n\u001b[1;32m   1196\u001b[0m full_backward_hooks, non_full_backward_hooks \u001b[39m=\u001b[39m [], []\n",
      "File \u001b[0;32m/opt/anaconda3/envs/pytorchbook/lib/python3.10/site-packages/torch/nn/modules/linear.py:114\u001b[0m, in \u001b[0;36mLinear.forward\u001b[0;34m(self, input)\u001b[0m\n\u001b[1;32m    113\u001b[0m \u001b[39mdef\u001b[39;00m \u001b[39mforward\u001b[39m(\u001b[39mself\u001b[39m, \u001b[39minput\u001b[39m: Tensor) \u001b[39m-\u001b[39m\u001b[39m>\u001b[39m Tensor:\n\u001b[0;32m--> 114\u001b[0m     \u001b[39mreturn\u001b[39;00m F\u001b[39m.\u001b[39;49mlinear(\u001b[39minput\u001b[39;49m, \u001b[39mself\u001b[39;49m\u001b[39m.\u001b[39;49mweight, \u001b[39mself\u001b[39;49m\u001b[39m.\u001b[39;49mbias)\n",
      "\u001b[0;31mKeyboardInterrupt\u001b[0m: "
     ]
    }
   ],
   "source": [
    "#data = Law('Race','/Users/robert/Desktop/Bachelor/FairRanker/data')\n",
    "#data = Adult('/Users/robert/Desktop/Bachelor/FairRanker/data')\n",
    "data = Compas('/Users/robert/Desktop/Bachelor/FairRanker/data')\n",
    "#data = Wiki()\n",
    "n_epochs = 1000\n",
    "hidden_layers = [64, 32, 16]\n",
    "bias_layers = [64, 32, 16]\n",
    "main_lr = 0.01\n",
    "adv_lr = 0.01\n",
    "schedules = [[1,5], [5,1]]\n",
    "for schedule in schedules:\n",
    "        for i in range(30):\n",
    "            data.got_data = False\n",
    "            full_data = data.get_data(random_state=random.randint(1, 100))\n",
    "            model = DirectRankerAdv(num_features=full_data[0][0].shape[1],\n",
    "                            kernel_initializer=nn.init.normal_,\n",
    "                            hidden_layers=hidden_layers,\n",
    "                            bias_layers=bias_layers,\n",
    "                            num_classes=len(torch.unique(full_data[0][1])),\n",
    "                            random_seed=random.random()\n",
    "                    )\n",
    "            model = DirectRankerAdvTrain.train(model, full_data, n_epochs=n_epochs, schedule=schedule, threshold=0.0, adv_lr=adv_lr, main_lr=main_lr, print_res=False, random_seed=random.random())\n",
    "            write_results(model, full_data[2][0], full_data[2][1], full_data[2][2], schedule, path)\n",
    "            print(f'Finished Schedule: {schedule} run {i+1}')\n",
    "print('Finished Scheduling')\n",
    "\n"
   ]
  },
  {
   "cell_type": "code",
   "execution_count": null,
   "metadata": {},
   "outputs": [],
   "source": [
    "data.got_data = False\n",
    "full_data = data.get_data(random_state=random.randint(1, 100))\n",
    "model = DirectRankerAdv(num_features=full_data[0][0].shape[1],\n",
    "                kernel_initializer=nn.init.normal_,\n",
    "                hidden_layers=hidden_layers,\n",
    "                bias_layers=bias_layers,\n",
    "                num_classes=len(torch.unique(full_data[0][1])),\n",
    "                random_seed=random.random()\n",
    "        )\n",
    "model = DirectRankerAdvTrain.train(model, full_data, n_epochs=n_epochs, schedule=[1,0], threshold=0.0, adv_lr=adv_lr, main_lr=main_lr, print_res=False, random_seed=random.random())\n",
    "write_results(model, full_data[2][0], full_data[2][1], full_data[2][2], 'BaseDR', path)"
   ]
  }
 ],
 "metadata": {
  "kernelspec": {
   "display_name": "pytorchbook",
   "language": "python",
   "name": "python3"
  },
  "language_info": {
   "codemirror_mode": {
    "name": "ipython",
    "version": 3
   },
   "file_extension": ".py",
   "mimetype": "text/x-python",
   "name": "python",
   "nbconvert_exporter": "python",
   "pygments_lexer": "ipython3",
   "version": "3.10.12"
  }
 },
 "nbformat": 4,
 "nbformat_minor": 2
}
