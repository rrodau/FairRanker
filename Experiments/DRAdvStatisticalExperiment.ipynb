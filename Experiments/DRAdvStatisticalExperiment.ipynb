{
 "cells": [
  {
   "cell_type": "code",
   "execution_count": 1,
   "metadata": {},
   "outputs": [],
   "source": [
    "import numpy as np\n",
    "\n",
    "import torch\n",
    "import torch.optim as optim\n",
    "import torch.nn as nn\n",
    "from FairRanking.datasets.adult import Adult\n",
    "import random\n",
    "from FairRanking.datasets.law import Law\n",
    "from FairRanking.datasets.compas import Compas\n",
    "from FairRanking.datasets.wiki import Wiki\n",
    "from FairRanking.models.DirectRanker import DirectRanker\n",
    "from FairRanking.models.BaseDirectRanker import convert_data_to_tensors\n",
    "from FairRanking.models.DirectRankerAdv import DirectRankerAdv\n",
    "from FairRanking.TrainingFunctions import DirectRankerAdvTrain, DirectRankerTrain\n",
    "from FairRanking.helpers import rND_torch, nDCG_cls_no_model, auc_estimator, group_pairwise_accuracy, auc_estimator2, nDCG_cls"
   ]
  },
  {
   "cell_type": "code",
   "execution_count": 2,
   "metadata": {},
   "outputs": [],
   "source": [
    "path = '../Results/DirectRankerAdv/Adult/T-Test/results.csv'\n",
    "#with open(path, 'w') as file:\n",
    "#    file.write(f'nDCG,AUC,rND,GPA,Schedule\\n')"
   ]
  },
  {
   "cell_type": "code",
   "execution_count": 3,
   "metadata": {},
   "outputs": [],
   "source": [
    "def write_results(model, X, y, s, schedule, path):\n",
    "    model.eval()\n",
    "    with torch.no_grad():\n",
    "        pred = model.predict_proba(X)\n",
    "        ndcg_list = []\n",
    "        for _ in range(100):\n",
    "            ndcg_i = nDCG_cls(pred, y, esti=False, trec=False, at=500)\n",
    "            ndcg_list.append(ndcg_i)\n",
    "        ndcg = np.mean(ndcg_list)\n",
    "        auc = auc_estimator2(pred, y)\n",
    "        rnd = rND_torch(pred, torch.argmax(s, dim=1))\n",
    "        gpa = group_pairwise_accuracy(pred, y, s)\n",
    "        with open(path, 'a') as file:\n",
    "            file.write(f'{ndcg},{auc},{rnd},{gpa},{str(schedule).replace(\",\",\";\")}\\n')\n"
   ]
  },
  {
   "cell_type": "code",
   "execution_count": 9,
   "metadata": {},
   "outputs": [
    {
     "name": "stdout",
     "output_type": "stream",
     "text": [
      "Finished Schedule: [2, 1] run 0\n",
      "Finished Schedule: [2, 1] run 1\n",
      "Finished Schedule: [2, 1] run 2\n",
      "Finished Schedule: [2, 1] run 3\n",
      "Finished Schedule: [2, 1] run 4\n",
      "Finished Schedule: [2, 1] run 5\n",
      "Finished Schedule: [2, 1] run 6\n",
      "Finished Schedule: [2, 1] run 7\n",
      "Finished Schedule: [2, 1] run 8\n",
      "Finished Schedule: [2, 1] run 9\n",
      "Finished Schedule: [2, 1] run 10\n",
      "Finished Schedule: [2, 1] run 11\n"
     ]
    }
   ],
   "source": [
    "#data = Law('Gender','/Users/robert/Desktop/Bachelor/FairRanker/data')\n",
    "data = Adult('/Users/robert/Desktop/Bachelor/FairRanker/data')\n",
    "#data = Compas('/Users/robert/Desktop/Bachelor/FairRanker/data')\n",
    "#data = Wiki()\n",
    "n_epochs = 1000\n",
    "hidden_layers = [64, 32, 16]\n",
    "bias_layers = [64, 32, 16]\n",
    "main_lr = 0.01\n",
    "adv_lr = 0.01\n",
    "schedules = [[2,1], [3,2]]\n",
    "for schedule in schedules:\n",
    "        for i in range(30):\n",
    "            data.got_data = False\n",
    "            full_data = data.get_data(random_state=random.randint(1, 100))\n",
    "            model = DirectRankerAdv(num_features=full_data[0][0].shape[1],\n",
    "                            kernel_initializer=nn.init.normal_,\n",
    "                            hidden_layers=hidden_layers,\n",
    "                            bias_layers=bias_layers,\n",
    "                            num_classes=len(torch.unique(full_data[0][1])),\n",
    "                            random_seed=random.random()\n",
    "                    )\n",
    "            model = DirectRankerAdvTrain.train(model, full_data, n_epochs=n_epochs, schedule=schedule, threshold=0.0, adv_lr=adv_lr, main_lr=main_lr, print_res=False, random_seed=random.random())\n",
    "            write_results(model, full_data[2][0], full_data[2][1], full_data[2][2], schedule, path)\n",
    "            print(f'Finished Schedule: {schedule} run {i}')\n",
    "print('Finished Scheduling')\n",
    "\n"
   ]
  }
 ],
 "metadata": {
  "kernelspec": {
   "display_name": "pytorchbook",
   "language": "python",
   "name": "python3"
  },
  "language_info": {
   "codemirror_mode": {
    "name": "ipython",
    "version": 3
   },
   "file_extension": ".py",
   "mimetype": "text/x-python",
   "name": "python",
   "nbconvert_exporter": "python",
   "pygments_lexer": "ipython3",
   "version": "3.10.12"
  }
 },
 "nbformat": 4,
 "nbformat_minor": 2
}
