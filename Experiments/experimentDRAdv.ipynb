{
 "cells": [
  {
   "cell_type": "code",
   "execution_count": 1,
   "metadata": {},
   "outputs": [],
   "source": [
    "import numpy as np\n",
    "\n",
    "import torch\n",
    "import torch.optim as optim\n",
    "import torch.nn as nn\n",
    "from FairRanking.datasets.adult import Adult\n",
    "from FairRanking.datasets.law import Law\n",
    "from FairRanking.datasets.compas import Compas\n",
    "from FairRanking.datasets.wiki import Wiki\n",
    "from FairRanking.models.DirectRanker import DirectRanker\n",
    "from FairRanking.models.BaseDirectRanker import convert_data_to_tensors\n",
    "from FairRanking.models.DirectRankerAdv import DirectRankerAdv\n",
    "from FairRanking.TrainingFunctions import DirectRankerAdvTrain, DirectRankerTrain\n",
    "from FairRanking.helpers import rND_torch, nDCG_cls_no_model, auc_estimator, group_pairwise_accuracy, auc_estimator2, nDCG_cls"
   ]
  },
  {
   "cell_type": "code",
   "execution_count": 2,
   "metadata": {},
   "outputs": [],
   "source": [
    "path = '../Results/DirectRankerAdv/Adult/Schedule05/results.csv'\n",
    "with open(path, 'w') as file:\n",
    "    file.write(f'nDCG,AUC,rND,GPA,Schedule\\n')\n",
    "def write_results(model, X, y, s, schedule, path):\n",
    "    model.eval()\n",
    "    with torch.no_grad():\n",
    "        pred = model.predict_proba(X)\n",
    "        ndcg_list = []\n",
    "        for _ in range(100):\n",
    "            ndcg_i = nDCG_cls(pred, y, esti=False, trec=False, at=500)\n",
    "            ndcg_list.append(ndcg_i)\n",
    "        ndcg = np.mean(ndcg_list)\n",
    "        auc = auc_estimator2(pred, y)\n",
    "        rnd = rND_torch(pred, torch.argmax(s, dim=1))\n",
    "        gpa = group_pairwise_accuracy(pred, y, s)\n",
    "        with open(path, 'a') as file:\n",
    "            file.write(f'{ndcg},{auc},{rnd},{gpa},{str(schedule).replace(\",\",\";\")}\\n')\n"
   ]
  },
  {
   "cell_type": "code",
   "execution_count": 7,
   "metadata": {},
   "outputs": [
    {
     "name": "stdout",
     "output_type": "stream",
     "text": [
      "Finished Schedule: [1, 1]\n",
      "Finished Schedule: [2, 1]\n",
      "Finished Schedule: [3, 1]\n",
      "Finished Schedule: [4, 1]\n",
      "Finished Schedule: [5, 1]\n",
      "Finished Schedule: [6, 1]\n",
      "Finished Schedule: [7, 1]\n",
      "Finished Schedule: [1, 2]\n",
      "Finished Schedule: [2, 2]\n",
      "Finished Schedule: [3, 2]\n",
      "Finished Schedule: [4, 2]\n",
      "Finished Schedule: [5, 2]\n",
      "Finished Schedule: [6, 2]\n",
      "Finished Schedule: [7, 2]\n",
      "Finished Schedule: [1, 3]\n",
      "Finished Schedule: [2, 3]\n",
      "Finished Schedule: [3, 3]\n",
      "Finished Schedule: [4, 3]\n",
      "Finished Schedule: [5, 3]\n",
      "Finished Schedule: [6, 3]\n",
      "Finished Schedule: [7, 3]\n",
      "Finished Schedule: [1, 4]\n",
      "Finished Schedule: [2, 4]\n",
      "Finished Schedule: [3, 4]\n",
      "Finished Schedule: [4, 4]\n",
      "Finished Schedule: [5, 4]\n",
      "Finished Schedule: [6, 4]\n",
      "Finished Schedule: [7, 4]\n",
      "Finished Schedule: [1, 5]\n",
      "Finished Schedule: [2, 5]\n",
      "Finished Schedule: [3, 5]\n",
      "Finished Schedule: [4, 5]\n",
      "Finished Schedule: [5, 5]\n",
      "Finished Schedule: [6, 5]\n",
      "Finished Schedule: [7, 5]\n",
      "Finished Schedule: [1, 6]\n",
      "Finished Schedule: [2, 6]\n",
      "Finished Schedule: [3, 6]\n",
      "Finished Schedule: [4, 6]\n",
      "Finished Schedule: [5, 6]\n",
      "Finished Schedule: [6, 6]\n",
      "Finished Schedule: [7, 6]\n",
      "Finished Schedule: [1, 7]\n",
      "Finished Schedule: [2, 7]\n",
      "Finished Schedule: [3, 7]\n",
      "Finished Schedule: [4, 7]\n",
      "Finished Schedule: [5, 7]\n",
      "Finished Schedule: [6, 7]\n",
      "Finished Schedule: [7, 7]\n",
      "Finished Scheduling\n"
     ]
    }
   ],
   "source": [
    "#data = Law('Gender','/Users/robert/Desktop/Bachelor/FairRanker/data')\n",
    "data = Adult('/Users/robert/Desktop/Bachelor/FairRanker/data')\n",
    "#data = Compas('/Users/robert/Desktop/Bachelor/FairRanker/data')\n",
    "#data = Wiki()\n",
    "full_data = data.get_data()\n",
    "n_epochs = 1000\n",
    "hidden_layers = [64, 32, 16]\n",
    "bias_layers = [64, 32, 16]\n",
    "main_lr = 0.01\n",
    "adv_lr = 0.01\n",
    "schedules = [[i,j] for j in range(1,8) for i in range(1,8)]\n",
    "for schedule in schedules:\n",
    "        torch.manual_seed(42)\n",
    "        model = DirectRankerAdv(num_features=full_data[0][0].shape[1],\n",
    "                        kernel_initializer=nn.init.normal_,\n",
    "                        hidden_layers=hidden_layers,\n",
    "                        bias_layers=bias_layers,\n",
    "                        num_classes=len(torch.unique(full_data[0][1])),\n",
    "                )\n",
    "        model = DirectRankerAdvTrain.train(model, full_data, n_epochs=n_epochs, schedule=schedule, threshold=0.0, adv_lr=adv_lr, main_lr=main_lr, print_res=False)\n",
    "        write_results(model, full_data[2][0], full_data[2][1], full_data[2][2], schedule, path)\n",
    "        print(f'Finished Schedule: {schedule}')\n",
    "print('Finished Scheduling')\n",
    "\n",
    "\n",
    "model = DirectRankerAdv(num_features=full_data[0][0].shape[1],\n",
    "                kernel_initializer=nn.init.normal_,\n",
    "                hidden_layers=hidden_layers,\n",
    "        )\n",
    "model = DirectRankerAdvTrain.train(model, full_data, n_epochs=1000, main_lr=main_lr, print_res=False, schedule=[1,0])\n",
    "write_results(model, full_data[2][0], full_data[2][1], full_data[2][2], 'BaseDR', path)"
   ]
  },
  {
   "cell_type": "code",
   "execution_count": 5,
   "metadata": {},
   "outputs": [
    {
     "name": "stdout",
     "output_type": "stream",
     "text": [
      "Loss: 1.173614263534546\n",
      "Loss: 0.1691061407327652\n",
      "Loss: 0.07065233588218689\n",
      "Loss: 0.05756095424294472\n",
      "Loss: 0.03538850322365761\n",
      "Loss: 0.025657476857304573\n",
      "Loss: 0.023794008418917656\n",
      "Loss: 0.01738457940518856\n",
      "Loss: 0.019351957365870476\n",
      "Loss: 0.012602664530277252\n",
      "0.8127822279930115, 0.8156078991084409, 0.4974169048626522\n",
      "\n"
     ]
    }
   ],
   "source": [
    "idx = 2\n",
    "data = Law('Race','/Users/robert/Desktop/Bachelor/FairRanker/data')\n",
    "#data = Adult('/Users/robert/Desktop/Bachelor/FairRanker/data')\n",
    "#data = Compas('/Users/robert/Desktop/Bachelor/FairRanker/data')\n",
    "#data = Wiki()#\n",
    "full_data = data.get_data()\n",
    "model = DirectRankerAdv(num_features=full_data[0][0].shape[1],\n",
    "                kernel_initializer=nn.init.normal_,\n",
    "                hidden_layers=[64, 32, 16],\n",
    "        )\n",
    "model = DirectRankerAdvTrain.train(model, full_data, n_epochs=1000, main_lr=0.01, print_res=True, schedule=[1,0])\n",
    "model.eval()\n",
    "with torch.no_grad():\n",
    "        pred = model.predict_proba(full_data[idx][0])\n",
    "        pred = model(full_data[idx][0], torch.zeros_like(full_data[idx][0], dtype=torch.float32))\n",
    "        ndcg = nDCG_cls_no_model(pred, full_data[idx][1], esti=False, trec=False, at=500)\n",
    "        auc = auc_estimator(pred, full_data[idx][1])\n",
    "        rnd = rND_torch(pred, torch.argmax(full_data[idx][2], dim=1))\n",
    "        gpa = group_pairwise_accuracy(pred, full_data[idx][1], full_data[idx][2])\n",
    "        ndcg2 = nDCG_cls(pred, full_data[idx][1], esti=False, trec=False, at=500)\n",
    "\n",
    "        print(f'{ndcg}, {ndcg2}, {auc}\\n')"
   ]
  },
  {
   "cell_type": "code",
   "execution_count": 6,
   "metadata": {},
   "outputs": [
    {
     "name": "stdout",
     "output_type": "stream",
     "text": [
      "0.8157980994524344\t0.056419683257918574\t0.27219955704800775\t0.004233642225682788\n"
     ]
    }
   ],
   "source": [
    "X = full_data[2][0]\n",
    "y = full_data[2][1]\n",
    "s = full_data[2][2]\n",
    "model.eval()\n",
    "with torch.no_grad():\n",
    "    pred = model.predict_proba(X)\n",
    "    ndcg_list = []\n",
    "    for _ in range(100):\n",
    "        ndcg_i = nDCG_cls(pred, y, esti=False, trec=False, at=500)\n",
    "        ndcg_list.append(ndcg_i)\n",
    "    ndcg = np.mean(ndcg_list)\n",
    "    auc = auc_estimator2(pred, y)\n",
    "    rnd = rND_torch(pred, torch.argmax(s, dim=1))\n",
    "    gpa = group_pairwise_accuracy(pred, y, s)\n",
    "print(f'{ndcg}\\t{auc}\\t{rnd}\\t{gpa}')"
   ]
  }
 ],
 "metadata": {
  "kernelspec": {
   "display_name": "pytorchbook",
   "language": "python",
   "name": "python3"
  },
  "language_info": {
   "codemirror_mode": {
    "name": "ipython",
    "version": 3
   },
   "file_extension": ".py",
   "mimetype": "text/x-python",
   "name": "python",
   "nbconvert_exporter": "python",
   "pygments_lexer": "ipython3",
   "version": "3.10.12"
  }
 },
 "nbformat": 4,
 "nbformat_minor": 2
}
