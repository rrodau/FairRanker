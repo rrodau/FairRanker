{
 "cells": [
  {
   "cell_type": "code",
   "execution_count": 1,
   "metadata": {},
   "outputs": [],
   "source": [
    "import numpy as np\n",
    "\n",
    "import torch\n",
    "import torch.optim as optim\n",
    "import torch.nn as nn\n",
    "from FairRanking.datasets.adult import Adult\n",
    "from FairRanking.datasets.law import Law\n",
    "from FairRanking.datasets.compas import Compas\n",
    "from FairRanking.datasets.wiki import Wiki\n",
    "from FairRanking.models.BaseDirectRanker import convert_data_to_tensors\n",
    "from FairRanking.models.DebiasClassifier import DebiasClassifier\n",
    "from FairRanking.TrainingFunctions.DebiasClassifierTrain import train\n",
    "from FairRanking.helpers import rND_torch, nDCG_cls_no_model, auc_estimator, group_pairwise_accuracy, auc_estimator2"
   ]
  },
  {
   "cell_type": "code",
   "execution_count": 15,
   "metadata": {},
   "outputs": [],
   "source": [
    "data = Law('Race','/Users/robert/Desktop/Bachelor/FairRanker/data')\n",
    "#data = Adult('/Users/robert/Desktop/Bachelor/FairRanker/data')\n",
    "#data = Compas('/Users/robert/Desktop/Bachelor/FairRanker/data')\n",
    "#data = Wiki()\n",
    "#X_train, s_train, y_train, X_val, s_val, y_val, X_test, s_test, y_test = convert_data_to_tensors(data, build_pairs=False)\n",
    "full_data = data.get_data()"
   ]
  },
  {
   "cell_type": "code",
   "execution_count": 3,
   "metadata": {},
   "outputs": [],
   "source": [
    "#(X_train, s_train, y_train), (X_val, s_val, y_val), (X_test, s_test, y_test) = data.get_data()"
   ]
  },
  {
   "cell_type": "code",
   "execution_count": 16,
   "metadata": {},
   "outputs": [],
   "source": [
    "model = DebiasClassifier(num_features=full_data[0][0].shape[1],\n",
    "                    kernel_initializer=nn.init.normal_,\n",
    "                    hidden_layers=[64, 32],\n",
    "                    bias_layers=[64, 32, 16, 2],\n",
    "                    num_relevance_classes=len(torch.unique(full_data[0][1]))\n",
    "            )"
   ]
  },
  {
   "cell_type": "code",
   "execution_count": 17,
   "metadata": {},
   "outputs": [
    {
     "name": "stdout",
     "output_type": "stream",
     "text": [
      "0\\1000\t Loss: 2.3707756996154785\t Sens Loss: 0.5777342915534973\n",
      "100\\1000\t Loss: 2.093188762664795\t Sens Loss: 0.537274956703186\n",
      "200\\1000\t Loss: 1.6184735298156738\t Sens Loss: 0.5264160633087158\n",
      "300\\1000\t Loss: 1.2949799299240112\t Sens Loss: 0.5258516073226929\n",
      "400\\1000\t Loss: 1.064518928527832\t Sens Loss: 0.5434296727180481\n",
      "500\\1000\t Loss: 0.9292394518852234\t Sens Loss: 0.5352419018745422\n",
      "600\\1000\t Loss: 0.8246256709098816\t Sens Loss: 0.5456917881965637\n",
      "700\\1000\t Loss: 0.7095827460289001\t Sens Loss: 0.537748396396637\n",
      "800\\1000\t Loss: 0.5820266008377075\t Sens Loss: 0.5326143503189087\n",
      "900\\1000\t Loss: 0.4981110692024231\t Sens Loss: 0.5494025349617004\n"
     ]
    }
   ],
   "source": [
    "\n",
    "model = train(model, full_data, schedule = [1,1], adv_lr = 0.001, main_lr=0.001, n_epochs = 1000, random_seed=42)"
   ]
  },
  {
   "cell_type": "code",
   "execution_count": 18,
   "metadata": {},
   "outputs": [
    {
     "name": "stdout",
     "output_type": "stream",
     "text": [
      "GPA:  0.17280611932224488\n",
      "nDCG:  0.0009775172220543027\n",
      "AUC:  0.5905431209807439\n",
      "rND:  0.16335662423035677\n"
     ]
    }
   ],
   "source": [
    "data_idx = 2\n",
    "model.eval()\n",
    "with torch.no_grad():\n",
    "    #h = model.forward_extracted_features(X_test0)\n",
    "    #print(h.shape)\n",
    "    #print(torch.amax(h, dim=1))\n",
    "    shuffled = full_data[data_idx][0][torch.randperm(full_data[data_idx][0].size(0))]\n",
    "    pred = model.predict_proba(full_data[data_idx][0])\n",
    "    #pred = model(full_data[data_idx][0], torch.zeros_like(full_data[data_idx][0]))\n",
    "    _, sorted_pred_indices = torch.sort(pred, dim=0)\n",
    "    _, sorted_y_indices = torch.sort(full_data[data_idx][1], dim=0)\n",
    "    # get the counts of correct and falsy ordered for accuracy\n",
    "    #_, counts = torch.unique(full_data[0][0][sorted_pred_indices] == full_data[0][0][sorted_y_indices], return_counts=True)\n",
    "    #print(counts[1]/(counts[0]+counts[1]))\n",
    "    print('GPA: ', group_pairwise_accuracy(pred, full_data[data_idx][1], full_data[data_idx][2]))\n",
    "    pred = torch.argmax(pred, dim=1)\n",
    "    print('nDCG: ', nDCG_cls_no_model(pred, full_data[data_idx][1], esti=False, trec=True))\n",
    "    #auc_pred = model.predict_proba(full_data[data_idx][0])\n",
    "    print('AUC: ', auc_estimator(pred, full_data[data_idx][1]))\n",
    "    print('rND: ', rND_torch(pred, torch.argmax(full_data[data_idx][2], dim=1)))"
   ]
  },
  {
   "cell_type": "code",
   "execution_count": 6,
   "metadata": {},
   "outputs": [
    {
     "name": "stdout",
     "output_type": "stream",
     "text": [
      "feature_layers.0.weight\n",
      "feature_layers.0.bias\n",
      "feature_layers.1.weight\n",
      "feature_layers.1.bias\n",
      "feature_layers.2.weight\n",
      "feature_layers.2.bias\n",
      "debias_layers.0.weight\n",
      "debias_layers.0.bias\n",
      "debias_layers.1.weight\n",
      "debias_layers.1.bias\n",
      "debias_layers.2.weight\n",
      "debias_layers.2.bias\n",
      "debias_layers.3.weight\n",
      "debias_layers.3.bias\n",
      "additional_main_layers.0.weight\n",
      "additional_main_layers.0.bias\n",
      "additional_main_layers.1.weight\n",
      "additional_main_layers.1.bias\n",
      "additional_main_layers.2.weight\n",
      "additional_main_layers.2.bias\n",
      "output_layer.weight\n",
      "output_layer.bias\n"
     ]
    }
   ],
   "source": [
    "for name, p in model.named_parameters():\n",
    "    print(name)"
   ]
  }
 ],
 "metadata": {
  "kernelspec": {
   "display_name": "pytorchbook",
   "language": "python",
   "name": "python3"
  },
  "language_info": {
   "codemirror_mode": {
    "name": "ipython",
    "version": 3
   },
   "file_extension": ".py",
   "mimetype": "text/x-python",
   "name": "python",
   "nbconvert_exporter": "python",
   "pygments_lexer": "ipython3",
   "version": "3.10.12"
  }
 },
 "nbformat": 4,
 "nbformat_minor": 2
}
