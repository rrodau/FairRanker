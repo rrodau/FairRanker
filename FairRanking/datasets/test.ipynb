{
 "cells": [
  {
   "cell_type": "code",
   "execution_count": 1,
   "metadata": {},
   "outputs": [],
   "source": [
    "import numpy as np\n",
    "import pandas as pd\n",
    "import torch\n",
    "from FairRanking.datasets.law import Law\n",
    "from FairRanking.datasets.adult import Adult\n",
    "from FairRanking.helpers import nDCG_cls, disparate_impact, calc_accuracy, rND_torch, auc_estimator, group_pairwise_accuracy, calc_rnd, disparity_loss"
   ]
  },
  {
   "cell_type": "code",
   "execution_count": 44,
   "metadata": {},
   "outputs": [],
   "source": [
    "data = Law('Race','/Users/robert/Desktop/Bachelor/FairRanker/data')\n",
    "#data = Adult('/Users/robert/Desktop/Bachelor/FairRanker/data')\n",
    "#data = Compas()\n",
    "#data = Wiki()\n",
    "#data.load_data()\n",
    "(X_train, s_train, y_train), (X_val, s_val, y_val), (X_test, s_test, y_test) = data.get_data(test_size=0.0001, val_size=0.0001)"
   ]
  },
  {
   "cell_type": "code",
   "execution_count": 45,
   "metadata": {},
   "outputs": [
    {
     "name": "stdout",
     "output_type": "stream",
     "text": [
      "{0: 1282, 1: 18281}\n"
     ]
    },
    {
     "data": {
      "text/plain": [
       "0.379294878214798"
      ]
     },
     "execution_count": 45,
     "metadata": {},
     "output_type": "execute_result"
    }
   ],
   "source": [
    "s = torch.argmax(torch.tensor(s_train, dtype=torch.float32), dim=1)\n",
    "y = torch.tensor(y_train.flatten(), dtype=torch.float32)\n",
    "rND_torch(y, s, step=10, start=10, protected_group_idx=0, non_protected_group_idx=1)"
   ]
  },
  {
   "cell_type": "code",
   "execution_count": 43,
   "metadata": {},
   "outputs": [
    {
     "data": {
      "text/plain": [
       "tensor([0., 0., 0.,  ..., 0., 1., 0.])"
      ]
     },
     "execution_count": 43,
     "metadata": {},
     "output_type": "execute_result"
    }
   ],
   "source": [
    "y"
   ]
  },
  {
   "cell_type": "code",
   "execution_count": 3,
   "metadata": {},
   "outputs": [
    {
     "data": {
      "text/html": [
       "<div>\n",
       "<style scoped>\n",
       "    .dataframe tbody tr th:only-of-type {\n",
       "        vertical-align: middle;\n",
       "    }\n",
       "\n",
       "    .dataframe tbody tr th {\n",
       "        vertical-align: top;\n",
       "    }\n",
       "\n",
       "    .dataframe thead th {\n",
       "        text-align: right;\n",
       "    }\n",
       "</style>\n",
       "<table border=\"1\" class=\"dataframe\">\n",
       "  <thead>\n",
       "    <tr style=\"text-align: right;\">\n",
       "      <th></th>\n",
       "      <th>id</th>\n",
       "      <th>race</th>\n",
       "      <th>gender</th>\n",
       "      <th>LSAT</th>\n",
       "      <th>UGPA</th>\n",
       "      <th>region_first</th>\n",
       "      <th>ZFYA</th>\n",
       "      <th>sander_index</th>\n",
       "      <th>first_pf</th>\n",
       "    </tr>\n",
       "  </thead>\n",
       "  <tbody>\n",
       "    <tr>\n",
       "      <th>0</th>\n",
       "      <td>19954</td>\n",
       "      <td>White</td>\n",
       "      <td>1</td>\n",
       "      <td>48.0</td>\n",
       "      <td>4.2</td>\n",
       "      <td>FW</td>\n",
       "      <td>1.73</td>\n",
       "      <td>1.000000</td>\n",
       "      <td>1</td>\n",
       "    </tr>\n",
       "    <tr>\n",
       "      <th>1</th>\n",
       "      <td>20757</td>\n",
       "      <td>White</td>\n",
       "      <td>2</td>\n",
       "      <td>45.0</td>\n",
       "      <td>4.2</td>\n",
       "      <td>GL</td>\n",
       "      <td>-1.07</td>\n",
       "      <td>0.962500</td>\n",
       "      <td>1</td>\n",
       "    </tr>\n",
       "    <tr>\n",
       "      <th>2</th>\n",
       "      <td>16564</td>\n",
       "      <td>White</td>\n",
       "      <td>1</td>\n",
       "      <td>41.0</td>\n",
       "      <td>4.2</td>\n",
       "      <td>MW</td>\n",
       "      <td>0.85</td>\n",
       "      <td>0.912500</td>\n",
       "      <td>1</td>\n",
       "    </tr>\n",
       "    <tr>\n",
       "      <th>3</th>\n",
       "      <td>5069</td>\n",
       "      <td>White</td>\n",
       "      <td>1</td>\n",
       "      <td>48.0</td>\n",
       "      <td>4.1</td>\n",
       "      <td>NE</td>\n",
       "      <td>-0.96</td>\n",
       "      <td>0.990476</td>\n",
       "      <td>1</td>\n",
       "    </tr>\n",
       "    <tr>\n",
       "      <th>4</th>\n",
       "      <td>18884</td>\n",
       "      <td>White</td>\n",
       "      <td>2</td>\n",
       "      <td>48.0</td>\n",
       "      <td>4.1</td>\n",
       "      <td>NE</td>\n",
       "      <td>1.31</td>\n",
       "      <td>0.990476</td>\n",
       "      <td>1</td>\n",
       "    </tr>\n",
       "  </tbody>\n",
       "</table>\n",
       "</div>"
      ],
      "text/plain": [
       "      id   race  gender  LSAT  UGPA region_first  ZFYA  sander_index  first_pf\n",
       "0  19954  White       1  48.0   4.2           FW  1.73      1.000000         1\n",
       "1  20757  White       2  45.0   4.2           GL -1.07      0.962500         1\n",
       "2  16564  White       1  41.0   4.2           MW  0.85      0.912500         1\n",
       "3   5069  White       1  48.0   4.1           NE -0.96      0.990476         1\n",
       "4  18884  White       2  48.0   4.1           NE  1.31      0.990476         1"
      ]
     },
     "execution_count": 3,
     "metadata": {},
     "output_type": "execute_result"
    }
   ],
   "source": [
    "df = pd.read_csv('/Users/robert/Desktop/Bachelor/FairRanker/data/law_data.csv')\n",
    "df.head()"
   ]
  },
  {
   "cell_type": "code",
   "execution_count": 33,
   "metadata": {},
   "outputs": [],
   "source": [
    "def rND(prediction, s, step=10, start=10, protected_group_idx=1, non_protected_group_idx=0):\n",
    "    '''\n",
    "    Computes the normalized Discounted Difference, which is a measure of how different are\n",
    "    the proportion of members in the protected group at the top-i cutoff and in the overall\n",
    "    population. Lower is better. 0 is the best possible value. Only binary protected groups\n",
    "    are supported.\n",
    "    '''\n",
    "    s = np.asarray(s)\n",
    "    if len(s.shape) > 1:\n",
    "        s = s[:, 0]\n",
    "    # we don't want to have uniqual size\n",
    "    if len(prediction) != len(s):\n",
    "        raise AssertionError(\n",
    "            'len of prediction ' + str(len(prediction)) + ' and s ' + str(len(s)) + ' are uniqual'\n",
    "        )\n",
    "    unique, counts = np.unique(s, return_counts=True)\n",
    "    count_dict_all = dict(zip(unique, counts))\n",
    "    try:\n",
    "        len(unique) == 2\n",
    "    except AssertionError:\n",
    "        print('array s contains more than 2 classes.')\n",
    "\n",
    "    keys = [protected_group_idx, non_protected_group_idx]\n",
    "    for key in keys:\n",
    "        if key not in count_dict_all:\n",
    "            count_dict_all[key] = 0\n",
    "\n",
    "    sorted_idx = np.argsort(np.array(prediction))[::-1]\n",
    "    sorted_s = np.array(s[sorted_idx])\n",
    "\n",
    "    # a fake sorted list of s which gives the worst possible result, used for regularization purposes\n",
    "    # it is maximally discriminative, having all non-protected individuals first and then the others.\n",
    "    fake_horrible_s = np.hstack(([non_protected_group_idx for i in range(count_dict_all[non_protected_group_idx])],\n",
    "                                 [protected_group_idx for i in range(count_dict_all[protected_group_idx])]))\n",
    "\n",
    "    fake_horrible_s_2 = np.hstack(([protected_group_idx for i in range(count_dict_all[protected_group_idx])],\n",
    "                                   [non_protected_group_idx for i in range(count_dict_all[non_protected_group_idx])]))\n",
    "\n",
    "    rnd = 0\n",
    "    max_rnd = 0\n",
    "    max_rnd_2 = 0\n",
    "\n",
    "    for i in range(start, len(s), step):\n",
    "        unique, counts = np.unique(sorted_s[:i], return_counts=True)\n",
    "        count_dict_top_i = dict(zip(unique, counts))\n",
    "\n",
    "        unique, counts = np.unique(fake_horrible_s[:i], return_counts=True)\n",
    "        count_dict_reg = dict(zip(unique, counts))\n",
    "\n",
    "        unique_2, counts_2 = np.unique(fake_horrible_s_2[:i], return_counts=True)\n",
    "        count_dict_reg_2 = dict(zip(unique_2, counts_2))\n",
    "\n",
    "        keys = [protected_group_idx, non_protected_group_idx]\n",
    "        for key in keys:\n",
    "            if key not in count_dict_reg:\n",
    "                count_dict_reg[key] = 0\n",
    "            if key not in count_dict_top_i:\n",
    "                count_dict_top_i[key] = 0\n",
    "            if key not in count_dict_reg_2:\n",
    "                count_dict_reg_2[key] = 0\n",
    "        rnd += 1 / np.log2(i) * np.abs(\n",
    "            count_dict_top_i[protected_group_idx] / i - count_dict_all[protected_group_idx] / len(s))\n",
    "        max_rnd += 1 / np.log2(i) * np.abs(\n",
    "            count_dict_reg[protected_group_idx] / i - count_dict_all[protected_group_idx] / len(s))\n",
    "        max_rnd_2 += 1 / np.log2(i) * np.abs(\n",
    "            count_dict_reg_2[protected_group_idx] / i - count_dict_all[protected_group_idx] / len(s))\n",
    "\n",
    "    max_rnd = max(max_rnd, max_rnd_2)\n",
    "\n",
    "    return rnd / max_rnd"
   ]
  },
  {
   "cell_type": "code",
   "execution_count": 46,
   "metadata": {},
   "outputs": [
    {
     "data": {
      "text/plain": [
       "0.3672382044738496"
      ]
     },
     "execution_count": 46,
     "metadata": {},
     "output_type": "execute_result"
    }
   ],
   "source": [
    "rND(y_train.flatten(), s_train, protected_group_idx=1, non_protected_group_idx=0)"
   ]
  }
 ],
 "metadata": {
  "kernelspec": {
   "display_name": "pytorchbook",
   "language": "python",
   "name": "python3"
  },
  "language_info": {
   "codemirror_mode": {
    "name": "ipython",
    "version": 3
   },
   "file_extension": ".py",
   "mimetype": "text/x-python",
   "name": "python",
   "nbconvert_exporter": "python",
   "pygments_lexer": "ipython3",
   "version": "3.10.12"
  }
 },
 "nbformat": 4,
 "nbformat_minor": 2
}
