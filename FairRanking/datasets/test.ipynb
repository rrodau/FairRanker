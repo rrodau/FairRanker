{
 "cells": [
  {
   "cell_type": "code",
   "execution_count": 1,
   "metadata": {},
   "outputs": [],
   "source": [
    "import numpy as np\n",
    "import pandas as pd\n",
    "from FairRanking.datasets.law import Law\n",
    "from FairRanking.datasets.adult import Adult"
   ]
  },
  {
   "cell_type": "code",
   "execution_count": 2,
   "metadata": {},
   "outputs": [],
   "source": [
    "#data = Law('Race','/Users/robert/Desktop/Bachelor/FairRanker/data')\n",
    "data = Adult('/Users/robert/Desktop/Bachelor/FairRanker/data')\n",
    "#data = Compas()\n",
    "#data = Wiki()\n",
    "#data.load_data()\n",
    "(X_train, s_train, y_train), (X_val, s_val, y_val), (X_test, s_test, y_test) = data.get_data()"
   ]
  },
  {
   "cell_type": "code",
   "execution_count": 11,
   "metadata": {},
   "outputs": [
    {
     "data": {
      "text/plain": [
       "array([-1.68475777,  1.27130608, -0.08671081])"
      ]
     },
     "execution_count": 11,
     "metadata": {},
     "output_type": "execute_result"
    }
   ],
   "source": []
  },
  {
   "cell_type": "code",
   "execution_count": 3,
   "metadata": {},
   "outputs": [
    {
     "data": {
      "text/html": [
       "<div>\n",
       "<style scoped>\n",
       "    .dataframe tbody tr th:only-of-type {\n",
       "        vertical-align: middle;\n",
       "    }\n",
       "\n",
       "    .dataframe tbody tr th {\n",
       "        vertical-align: top;\n",
       "    }\n",
       "\n",
       "    .dataframe thead th {\n",
       "        text-align: right;\n",
       "    }\n",
       "</style>\n",
       "<table border=\"1\" class=\"dataframe\">\n",
       "  <thead>\n",
       "    <tr style=\"text-align: right;\">\n",
       "      <th></th>\n",
       "      <th>id</th>\n",
       "      <th>race</th>\n",
       "      <th>gender</th>\n",
       "      <th>LSAT</th>\n",
       "      <th>UGPA</th>\n",
       "      <th>region_first</th>\n",
       "      <th>ZFYA</th>\n",
       "      <th>sander_index</th>\n",
       "      <th>first_pf</th>\n",
       "    </tr>\n",
       "  </thead>\n",
       "  <tbody>\n",
       "    <tr>\n",
       "      <th>0</th>\n",
       "      <td>19954</td>\n",
       "      <td>White</td>\n",
       "      <td>1</td>\n",
       "      <td>48.0</td>\n",
       "      <td>4.2</td>\n",
       "      <td>FW</td>\n",
       "      <td>1.73</td>\n",
       "      <td>1.000000</td>\n",
       "      <td>1</td>\n",
       "    </tr>\n",
       "    <tr>\n",
       "      <th>1</th>\n",
       "      <td>20757</td>\n",
       "      <td>White</td>\n",
       "      <td>2</td>\n",
       "      <td>45.0</td>\n",
       "      <td>4.2</td>\n",
       "      <td>GL</td>\n",
       "      <td>-1.07</td>\n",
       "      <td>0.962500</td>\n",
       "      <td>1</td>\n",
       "    </tr>\n",
       "    <tr>\n",
       "      <th>2</th>\n",
       "      <td>16564</td>\n",
       "      <td>White</td>\n",
       "      <td>1</td>\n",
       "      <td>41.0</td>\n",
       "      <td>4.2</td>\n",
       "      <td>MW</td>\n",
       "      <td>0.85</td>\n",
       "      <td>0.912500</td>\n",
       "      <td>1</td>\n",
       "    </tr>\n",
       "    <tr>\n",
       "      <th>3</th>\n",
       "      <td>5069</td>\n",
       "      <td>White</td>\n",
       "      <td>1</td>\n",
       "      <td>48.0</td>\n",
       "      <td>4.1</td>\n",
       "      <td>NE</td>\n",
       "      <td>-0.96</td>\n",
       "      <td>0.990476</td>\n",
       "      <td>1</td>\n",
       "    </tr>\n",
       "    <tr>\n",
       "      <th>4</th>\n",
       "      <td>18884</td>\n",
       "      <td>White</td>\n",
       "      <td>2</td>\n",
       "      <td>48.0</td>\n",
       "      <td>4.1</td>\n",
       "      <td>NE</td>\n",
       "      <td>1.31</td>\n",
       "      <td>0.990476</td>\n",
       "      <td>1</td>\n",
       "    </tr>\n",
       "  </tbody>\n",
       "</table>\n",
       "</div>"
      ],
      "text/plain": [
       "      id   race  gender  LSAT  UGPA region_first  ZFYA  sander_index  first_pf\n",
       "0  19954  White       1  48.0   4.2           FW  1.73      1.000000         1\n",
       "1  20757  White       2  45.0   4.2           GL -1.07      0.962500         1\n",
       "2  16564  White       1  41.0   4.2           MW  0.85      0.912500         1\n",
       "3   5069  White       1  48.0   4.1           NE -0.96      0.990476         1\n",
       "4  18884  White       2  48.0   4.1           NE  1.31      0.990476         1"
      ]
     },
     "execution_count": 3,
     "metadata": {},
     "output_type": "execute_result"
    }
   ],
   "source": [
    "df = pd.read_csv('/Users/robert/Desktop/Bachelor/FairRanker/data/law_data.csv')\n",
    "df.head()"
   ]
  },
  {
   "cell_type": "code",
   "execution_count": 5,
   "metadata": {},
   "outputs": [
    {
     "data": {
      "text/plain": [
       "21791"
      ]
     },
     "execution_count": 5,
     "metadata": {},
     "output_type": "execute_result"
    }
   ],
   "source": [
    "len(df)"
   ]
  }
 ],
 "metadata": {
  "kernelspec": {
   "display_name": "pytorchbook",
   "language": "python",
   "name": "python3"
  },
  "language_info": {
   "codemirror_mode": {
    "name": "ipython",
    "version": 3
   },
   "file_extension": ".py",
   "mimetype": "text/x-python",
   "name": "python",
   "nbconvert_exporter": "python",
   "pygments_lexer": "ipython3",
   "version": "3.10.12"
  }
 },
 "nbformat": 4,
 "nbformat_minor": 2
}
