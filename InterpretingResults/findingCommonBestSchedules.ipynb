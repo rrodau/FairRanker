{
 "cells": [
  {
   "cell_type": "code",
   "execution_count": 1,
   "metadata": {},
   "outputs": [],
   "source": [
    "import numpy as np\n",
    "import pandas as pd"
   ]
  },
  {
   "cell_type": "code",
   "execution_count": 9,
   "metadata": {},
   "outputs": [],
   "source": [
    "def get_df(dataset):\n",
    "    return pd.read_csv(f'../Results/DirectRankerAdv/{dataset}/T-Test/Run02/results.csv')"
   ]
  },
  {
   "cell_type": "code",
   "execution_count": 10,
   "metadata": {},
   "outputs": [],
   "source": [
    "law_race_results = get_df('Law-Race')\n",
    "law_gender_results = get_df('Law-Gender')\n",
    "compas_results = get_df('Compas')\n",
    "adult_results = get_df('Adult')\n",
    "results_list = [law_gender_results, law_race_results, compas_results, adult_results]"
   ]
  },
  {
   "cell_type": "code",
   "execution_count": 46,
   "metadata": {},
   "outputs": [
    {
     "name": "stdout",
     "output_type": "stream",
     "text": [
      "0 [1; 1]\n",
      "0 [3; 1]\n",
      "1 [1; 4]\n",
      "1 [1; 5]\n",
      "2 [1; 2]\n",
      "2 [1; 3]\n",
      "2 [1; 4]\n",
      "2 [1; 5]\n",
      "3 [1; 3]\n",
      "3 [1; 4]\n",
      "3 [1; 5]\n",
      "(array(['[1; 1]', '[1; 2]', '[1; 3]', '[1; 4]', '[1; 5]', '[3; 1]'],\n",
      "      dtype='<U6'), array([1, 1, 2, 3, 3, 1]))\n"
     ]
    }
   ],
   "source": [
    "best_schedules = []\n",
    "for i, df in enumerate(results_list):\n",
    "    #median_ndcg = np.median(df['nDCG'])\n",
    "    #median_rnd = np.median(df['rND'])\n",
    "    schedules = np.unique(results_list[i]['Schedule'])\n",
    "    for schedule in schedules:\n",
    "        tmp_df = df[df['Schedule'] == schedule]\n",
    "        # Get the other Schedules to compare their median to the current\n",
    "        tmp_df2 = df[df['Schedule'] != schedule]\n",
    "        median_ndcg = np.mean(tmp_df2['nDCG'])\n",
    "        median_rnd = np.mean(tmp_df2['rND'])\n",
    "        if np.median(tmp_df['rND']) < median_rnd and np.median(tmp_df['nDCG']) > median_ndcg:\n",
    "            print(i, schedule)\n",
    "            best_schedules.append(schedule)\n",
    "print(np.unique(best_schedules, return_counts=True))"
   ]
  },
  {
   "cell_type": "code",
   "execution_count": 72,
   "metadata": {},
   "outputs": [
    {
     "name": "stdout",
     "output_type": "stream",
     "text": [
      "Law-Gender\n",
      "Difference in x > y and rND: 0.0023\n",
      "Differnece in x < y and nDCG: 0.0128\n",
      "Correlation between x > y and nDCG: -0.2262\n",
      "Correlation between x > y and rND: 0.0208\n",
      "Correlation between x < y and nDCG: 0.4111\n",
      "Correlation between x < y and rND: -0.0465\n",
      "\n",
      "Law-Race\n",
      "Found x > y with a good nDCG Score in Law-Race diffreence: 0.0034\n",
      "Found x < y with a good rND Score in Law-Race difference: 0.0638\n",
      "Difference in x > y and rND: 0.0036\n",
      "Differnece in x < y and nDCG: 0.0189\n",
      "Correlation between x > y and nDCG: 0.1041\n",
      "Correlation between x > y and rND: 0.4349\n",
      "Correlation between x < y and nDCG: -0.3421\n",
      "Correlation between x < y and rND: -0.8325\n",
      "\n",
      "Compas\n",
      "Found x > y with a good nDCG Score in Compas diffreence: 0.0153\n",
      "Found x < y with a good rND Score in Compas difference: 0.1061\n",
      "Found x < y with a good nDCG Score in Compas difference: 0.1212\n",
      "Difference in x > y and rND: 0.0216\n",
      "Differnece in x < y and nDCG: -0.1212\n",
      "Correlation between x > y and nDCG: 0.5382\n",
      "Correlation between x > y and rND: 0.5853\n",
      "Correlation between x < y and nDCG: -0.8149\n",
      "Correlation between x < y and rND: -0.8265\n",
      "\n",
      "Adult\n",
      "Found x > y with a good nDCG Score in Adult diffreence: 0.0061\n",
      "Found x < y with a good rND Score in Adult difference: 0.1241\n",
      "Found x < y with a good nDCG Score in Adult difference: 0.0093\n",
      "Difference in x > y and rND: 0.0427\n",
      "Differnece in x < y and nDCG: -0.0093\n",
      "Correlation between x > y and nDCG: 0.2698\n",
      "Correlation between x > y and rND: 0.7373\n",
      "Correlation between x < y and nDCG: -0.4763\n",
      "Correlation between x < y and rND: -0.9318\n",
      "\n"
     ]
    }
   ],
   "source": [
    "best_schedules = []\n",
    "df_names = ['Law-Gender', 'Law-Race', 'Compas', 'Adult']\n",
    "for i, df in enumerate(results_list):\n",
    "\n",
    "    schedules = np.unique(results_list[0]['Schedule'])\n",
    "\n",
    "    df['Main Schedule'] = df.apply(lambda x: int(x['Schedule'][1]), axis=1)\n",
    "    df['Adv Schedule'] = df.apply(lambda x: int(x['Schedule'][4]), axis=1)\n",
    "\n",
    "    greater_main_df = df[df['Main Schedule'] > df['Adv Schedule']]\n",
    "    greater_adv_df = df[df['Adv Schedule'] > df['Main Schedule']]\n",
    "    exact_df = df[df['Adv Schedule'] == df['Main Schedule']]\n",
    "\n",
    "    base_median_ndcg = np.median(exact_df['nDCG'])\n",
    "    base_median_rnd = np.median(exact_df['rND'])\n",
    "    median_greater_main_ndcg = np.median(greater_main_df['nDCG'])\n",
    "    median_greater_adv_rnd = np.median(greater_adv_df['rND'])\n",
    "    median_greater_main_rnd = np.median(greater_main_df['rND'])\n",
    "    median_greater_adv_ndcg = np.median(greater_adv_df['nDCG'])\n",
    "    #median_exact = np.median(exact_df[metric])\n",
    "    print(f'{df_names[i]}')\n",
    "    if median_greater_main_ndcg > base_median_ndcg:\n",
    "        diff = median_greater_main_ndcg - base_median_ndcg\n",
    "        print(f'Found x > y with a good nDCG Score in {df_names[i]} diffreence: {round(diff, 4)}')\n",
    "    if median_greater_adv_rnd < base_median_rnd:\n",
    "        diff = base_median_rnd - median_greater_adv_rnd\n",
    "        print(f'Found x < y with a good rND Score in {df_names[i]} difference: {round(diff, 4)}')\n",
    "    if median_greater_main_rnd <= base_median_rnd:\n",
    "        diff = median_greater_main_rnd - base_median_rnd\n",
    "        print(f'Found x > y with a good rND Score in {df_names[i]} diffreence: {round(diff, 4)}')\n",
    "    if median_greater_adv_ndcg <= base_median_ndcg:\n",
    "        diff = base_median_ndcg - median_greater_adv_ndcg\n",
    "        print(f'Found x < y with a good nDCG Score in {df_names[i]} difference: {round(diff, 4)}')\n",
    "    diff_rnd = round(median_greater_main_rnd - base_median_rnd, 4)\n",
    "    diff_ndcg = round(median_greater_adv_ndcg - base_median_ndcg, 4)\n",
    "    print(f'Difference in x > y and rND: {diff_rnd}')\n",
    "    print(f'Differnece in x < y and nDCG: {diff_ndcg}')\n",
    "    print(f'Correlation between x > y and nDCG: {round(df[\"Main Schedule\"].corr(df[\"nDCG\"]), 4)}')\n",
    "    print(f'Correlation between x > y and rND: {round(df[\"Main Schedule\"].corr(df[\"rND\"]), 4)}')\n",
    "    print(f'Correlation between x < y and nDCG: {round(df[\"Adv Schedule\"].corr(df[\"nDCG\"]), 4)}')\n",
    "    print(f'Correlation between x < y and rND: {round(df[\"Adv Schedule\"].corr(df[\"rND\"]), 4)}')\n",
    "    print()\n",
    "\n"
   ]
  },
  {
   "cell_type": "code",
   "execution_count": null,
   "metadata": {},
   "outputs": [],
   "source": []
  }
 ],
 "metadata": {
  "kernelspec": {
   "display_name": "pytorchbook",
   "language": "python",
   "name": "python3"
  },
  "language_info": {
   "codemirror_mode": {
    "name": "ipython",
    "version": 3
   },
   "file_extension": ".py",
   "mimetype": "text/x-python",
   "name": "python",
   "nbconvert_exporter": "python",
   "pygments_lexer": "ipython3",
   "version": "3.10.12"
  }
 },
 "nbformat": 4,
 "nbformat_minor": 2
}
