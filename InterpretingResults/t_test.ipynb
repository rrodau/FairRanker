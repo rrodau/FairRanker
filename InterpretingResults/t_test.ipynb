{
 "cells": [
  {
   "cell_type": "markdown",
   "metadata": {},
   "source": [
    "# This Notebook is made to conduct a T-Test to show if different Scheduling have a statistical significance on the nDCG and or on the rND"
   ]
  },
  {
   "cell_type": "code",
   "execution_count": 1,
   "metadata": {},
   "outputs": [],
   "source": [
    "import pandas as pd\n",
    "import scipy.stats as stats\n",
    "import statsmodels.stats.power as smp\n",
    "from resultsHelper import cohen_d, perform_shapiro_test"
   ]
  },
  {
   "cell_type": "code",
   "execution_count": 7,
   "metadata": {},
   "outputs": [
    {
     "name": "stdout",
     "output_type": "stream",
     "text": [
      "['[1; 1]' '[3; 5]']\n"
     ]
    }
   ],
   "source": [
    "df = pd.read_csv('../Results/DirectRankerAdv/Adult/T-Test/results.csv')\n",
    "# Lists containing the performance metric for each schedule\n",
    "print(df['Schedule'].unique())"
   ]
  },
  {
   "cell_type": "code",
   "execution_count": 9,
   "metadata": {},
   "outputs": [],
   "source": [
    "a = '[1; 1]'\n",
    "b = '[3; 5]'\n",
    "schedule_a = list(df[df['Schedule']==a]['nDCG'])\n",
    "schedule_b = list(df[df['Schedule']==b]['nDCG'])"
   ]
  },
  {
   "cell_type": "markdown",
   "metadata": {},
   "source": [
    "### To check if the data is normal the Shapiro Wilk test will be performed"
   ]
  },
  {
   "cell_type": "code",
   "execution_count": 10,
   "metadata": {},
   "outputs": [
    {
     "name": "stdout",
     "output_type": "stream",
     "text": [
      "Shapiro-Wilk Test for nDCG in Schedule [1; 1]: Statistic=0.9745062589645386, p-value=0.668184757232666\n",
      "\tNull hypothesis not rejected - data is normal\n",
      "Shapiro-Wilk Test for nDCG in Schedule [3; 5]: Statistic=0.9329608082771301, p-value=0.058879170566797256\n",
      "\tNull hypothesis not rejected - data is normal\n",
      "Shapiro-Wilk Test for rND in Schedule [1; 1]: Statistic=0.9645545482635498, p-value=0.4026342034339905\n",
      "\tNull hypothesis not rejected - data is normal\n",
      "Shapiro-Wilk Test for rND in Schedule [3; 5]: Statistic=0.979521632194519, p-value=0.8126932978630066\n",
      "\tNull hypothesis not rejected - data is normal\n"
     ]
    }
   ],
   "source": [
    "# Perform the test for 'nDCG'\n",
    "perform_shapiro_test(df, 'nDCG')\n",
    "\n",
    "# Perform the test for 'rND'\n",
    "perform_shapiro_test(df, 'rND')\n"
   ]
  },
  {
   "cell_type": "markdown",
   "metadata": {},
   "source": [
    "### Now calculate Cohen's d to validate that the sample size is engouh"
   ]
  },
  {
   "cell_type": "code",
   "execution_count": 11,
   "metadata": {},
   "outputs": [
    {
     "name": "stdout",
     "output_type": "stream",
     "text": [
      "Cohen's d: 0.12407553938479315\n"
     ]
    }
   ],
   "source": [
    "# Calculate Cohen's d\n",
    "d = cohen_d(schedule_a, schedule_b)\n",
    "print(\"Cohen's d:\", d)"
   ]
  },
  {
   "cell_type": "code",
   "execution_count": 13,
   "metadata": {},
   "outputs": [
    {
     "name": "stdout",
     "output_type": "stream",
     "text": [
      "Required sample size: 1021.88 per group\n"
     ]
    }
   ],
   "source": [
    "effect_size = 0.124\n",
    "alpha = 0.05       \n",
    "power = 0.8        \n",
    "ratio = 1          \n",
    "\n",
    "# Calculate the sample size\n",
    "sample_size = smp.TTestIndPower().solve_power(effect_size=effect_size,\n",
    "                                              power=power,\n",
    "                                              alpha=alpha,\n",
    "                                              ratio=ratio,\n",
    "                                              alternative='two-sided')\n",
    "\n",
    "print(f\"Required sample size: {sample_size:.2f} per group\")"
   ]
  },
  {
   "cell_type": "code",
   "execution_count": 6,
   "metadata": {},
   "outputs": [
    {
     "name": "stdout",
     "output_type": "stream",
     "text": [
      "7.695420725019729e-11\n",
      "Reject the null hypothesis - suggest the means are different\n"
     ]
    }
   ],
   "source": [
    "schedule_a = list(df[df['Schedule']==a]['rND'])\n",
    "schedule_b = list(df[df['Schedule']==b]['rND'])\n",
    "# Perform the t-test\n",
    "t_stat, p_value = stats.ttest_ind(schedule_a, schedule_b)\n",
    "\n",
    "# Check significance\n",
    "alpha = 0.05\n",
    "print(p_value)\n",
    "if p_value < alpha:\n",
    "    print(\"Reject the null hypothesis - suggest the means are different\")\n",
    "else:\n",
    "    print(\"Do not reject the null hypothesis - no suggestion that the means are different\")"
   ]
  }
 ],
 "metadata": {
  "kernelspec": {
   "display_name": "pytorchbook",
   "language": "python",
   "name": "python3"
  },
  "language_info": {
   "codemirror_mode": {
    "name": "ipython",
    "version": 3
   },
   "file_extension": ".py",
   "mimetype": "text/x-python",
   "name": "python",
   "nbconvert_exporter": "python",
   "pygments_lexer": "ipython3",
   "version": "3.10.12"
  }
 },
 "nbformat": 4,
 "nbformat_minor": 2
}
