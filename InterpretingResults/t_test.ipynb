{
 "cells": [
  {
   "cell_type": "markdown",
   "metadata": {},
   "source": [
    "# This Notebook is made to conduct a T-Test to show if different Scheduling have a statistical significance on the nDCG and or on the rND"
   ]
  },
  {
   "cell_type": "code",
   "execution_count": 24,
   "metadata": {},
   "outputs": [],
   "source": [
    "import pandas as pd\n",
    "import scipy.stats as stats\n",
    "import statsmodels.stats.power as smp\n",
    "from resultsHelper import cohen_d, perform_shapiro_test"
   ]
  },
  {
   "cell_type": "code",
   "execution_count": 25,
   "metadata": {},
   "outputs": [
    {
     "name": "stdout",
     "output_type": "stream",
     "text": [
      "['[1; 1]' '[3; 2]']\n"
     ]
    }
   ],
   "source": [
    "df = pd.read_csv('../Results/DirectRankerAdv/Adult/T-Test/results_test.csv')\n",
    "# Lists containing the performance metric for each schedule\n",
    "print(df['Schedule'].unique())"
   ]
  },
  {
   "cell_type": "code",
   "execution_count": 26,
   "metadata": {},
   "outputs": [],
   "source": [
    "a = '[1; 1]'\n",
    "b = '[3; 2]'\n",
    "schedule_a = list(df[df['Schedule']==a]['rND'])\n",
    "schedule_b = list(df[df['Schedule']==b]['rND'])"
   ]
  },
  {
   "cell_type": "markdown",
   "metadata": {},
   "source": [
    "### To check if the data is normal the Shapiro Wilk test will be performed"
   ]
  },
  {
   "cell_type": "code",
   "execution_count": 27,
   "metadata": {},
   "outputs": [
    {
     "name": "stdout",
     "output_type": "stream",
     "text": [
      "Shapiro-Wilk Test for nDCG in Schedule [1; 1]: Statistic=0.9439390897750854, p-value=0.11614807695150375\n",
      "\tNull hypothesis not rejected - data is normal\n",
      "Shapiro-Wilk Test for nDCG in Schedule [3; 2]: Statistic=0.9563839435577393, p-value=0.249698206782341\n",
      "\tNull hypothesis not rejected - data is normal\n",
      "Shapiro-Wilk Test for rND in Schedule [1; 1]: Statistic=0.9941222667694092, p-value=0.9997385740280151\n",
      "\tNull hypothesis not rejected - data is normal\n",
      "Shapiro-Wilk Test for rND in Schedule [3; 2]: Statistic=0.9716618061065674, p-value=0.5855796337127686\n",
      "\tNull hypothesis not rejected - data is normal\n"
     ]
    }
   ],
   "source": [
    "# Perform the test for 'nDCG'\n",
    "perform_shapiro_test(df, 'nDCG')\n",
    "\n",
    "# Perform the test for 'rND'\n",
    "perform_shapiro_test(df, 'rND')\n"
   ]
  },
  {
   "cell_type": "markdown",
   "metadata": {},
   "source": [
    "### Now calculate Cohen's d to validate that the sample size is enough"
   ]
  },
  {
   "cell_type": "code",
   "execution_count": 28,
   "metadata": {},
   "outputs": [
    {
     "name": "stdout",
     "output_type": "stream",
     "text": [
      "Cohen's d: -1.8349002675185693\n"
     ]
    }
   ],
   "source": [
    "# Calculate Cohen's d\n",
    "d = cohen_d(schedule_a, schedule_b)\n",
    "print(\"Cohen's d:\", d)"
   ]
  },
  {
   "cell_type": "code",
   "execution_count": 29,
   "metadata": {},
   "outputs": [
    {
     "name": "stdout",
     "output_type": "stream",
     "text": [
      "Required sample size: 5.80 per group\n"
     ]
    }
   ],
   "source": [
    "effect_size = -1.834\n",
    "alpha = 0.05       \n",
    "power = 0.8        \n",
    "ratio = 1          \n",
    "\n",
    "# Calculate the sample size\n",
    "sample_size = smp.TTestIndPower().solve_power(effect_size=effect_size,\n",
    "                                              power=power,\n",
    "                                              alpha=alpha,\n",
    "                                              ratio=ratio,\n",
    "                                              alternative='two-sided')\n",
    "\n",
    "print(f\"Required sample size: {sample_size:.2f} per group\")"
   ]
  },
  {
   "cell_type": "code",
   "execution_count": 30,
   "metadata": {},
   "outputs": [
    {
     "name": "stdout",
     "output_type": "stream",
     "text": [
      "1.9412028129727947e-09\n",
      "Reject the null hypothesis - suggest the means are different\n"
     ]
    }
   ],
   "source": [
    "schedule_a = list(df[df['Schedule']==a]['rND'])\n",
    "schedule_b = list(df[df['Schedule']==b]['rND'])\n",
    "# Perform the t-test\n",
    "t_stat, p_value = stats.ttest_ind(schedule_a, schedule_b)\n",
    "\n",
    "# Check significance\n",
    "alpha = 0.05\n",
    "print(p_value)\n",
    "if p_value < alpha:\n",
    "    print(\"Reject the null hypothesis - suggest the means are different\")\n",
    "else:\n",
    "    print(\"Do not reject the null hypothesis - no suggestion that the means are different\")"
   ]
  },
  {
   "cell_type": "code",
   "execution_count": 50,
   "metadata": {},
   "outputs": [
    {
     "data": {
      "text/plain": [
       "0.8219808715108539"
      ]
     },
     "execution_count": 50,
     "metadata": {},
     "output_type": "execute_result"
    }
   ],
   "source": [
    "df = pd.read_csv('../Results/DirectRankerAdv/Law-Race/Schedule02/results.csv')\n",
    "schedule_a = df['rND']\n",
    "schedule_b = df['nDCG']\n",
    "schedule_a.corr(schedule_b)"
   ]
  }
 ],
 "metadata": {
  "kernelspec": {
   "display_name": "pytorchbook",
   "language": "python",
   "name": "python3"
  },
  "language_info": {
   "codemirror_mode": {
    "name": "ipython",
    "version": 3
   },
   "file_extension": ".py",
   "mimetype": "text/x-python",
   "name": "python",
   "nbconvert_exporter": "python",
   "pygments_lexer": "ipython3",
   "version": "3.10.12"
  }
 },
 "nbformat": 4,
 "nbformat_minor": 2
}
