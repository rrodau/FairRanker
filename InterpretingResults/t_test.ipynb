{
 "cells": [
  {
   "cell_type": "markdown",
   "metadata": {},
   "source": [
    "# This Notebook is made to conduct a T-Test to show if different Scheduling have a statistical significance on the nDCG and or on the rND"
   ]
  },
  {
   "cell_type": "code",
   "execution_count": 1,
   "metadata": {},
   "outputs": [],
   "source": [
    "import pandas as pd\n",
    "import scipy.stats as stats\n",
    "import statsmodels.stats.power as smp\n",
    "from resultsHelper import cohen_d, perform_shapiro_test"
   ]
  },
  {
   "cell_type": "code",
   "execution_count": 9,
   "metadata": {},
   "outputs": [],
   "source": [
    "datasets = ['Adult', 'Compas', 'Law-Race', 'Law-Gender']\n",
    "metrics = ['nDCG', 'rND', 'GPA']"
   ]
  },
  {
   "cell_type": "code",
   "execution_count": 10,
   "metadata": {},
   "outputs": [
    {
     "name": "stdout",
     "output_type": "stream",
     "text": [
      "Adult - normal: 20  not normal: 7\n",
      "Compas - normal: 22  not normal: 5\n",
      "Law-Race - normal: 24  not normal: 3\n",
      "Law-Gender - normal: 17  not normal: 10\n",
      "Total normal: 83  total not normal: 25\n"
     ]
    }
   ],
   "source": [
    "total_normal = 0\n",
    "total_not_normal = 0\n",
    "for dataset in datasets:\n",
    "    df = pd.read_csv(f'../Results/DirectRankerAdv/{dataset}/T-Test/Run02/results.csv')\n",
    "    count_normal = 0\n",
    "    count_not_normal = 0\n",
    "    for metric in metrics:\n",
    "        for schedule in df['Schedule'].unique():\n",
    "            stat, p_value = stats.shapiro(df[df['Schedule'] == schedule][metric])\n",
    "\n",
    "            if p_value < 0.05:\n",
    "                count_not_normal += 1\n",
    "            else:\n",
    "                count_normal += 1\n",
    "    print(f'{dataset} - normal: {count_normal}  not normal: {count_not_normal}')\n",
    "    total_normal += count_normal\n",
    "    total_not_normal += count_not_normal\n",
    "\n",
    "print(f'Total normal: {total_normal}  total not normal: {total_not_normal}')\n"
   ]
  },
  {
   "cell_type": "code",
   "execution_count": 21,
   "metadata": {},
   "outputs": [
    {
     "name": "stdout",
     "output_type": "stream",
     "text": [
      "['[1; 2]' '[2; 1]' '[1; 3]' '[3; 1]' '[1; 4]' '[4; 1]' '[1; 5]' '[5; 1]'\n",
      " '[1; 1]']\n"
     ]
    }
   ],
   "source": [
    "df = pd.read_csv('../Results/DebiasClassifier/Adult/T-Test/results.csv')\n",
    "# Lists containing the performance metric for each schedule\n",
    "print(df['Schedule'].unique())"
   ]
  },
  {
   "cell_type": "code",
   "execution_count": 24,
   "metadata": {},
   "outputs": [
    {
     "name": "stdout",
     "output_type": "stream",
     "text": [
      "               sum_sq     df          F        PR(>F)\n",
      "C(Schedule)  0.173363    8.0  10.484879  9.630910e-13\n",
      "Residual     0.539440  261.0        NaN           NaN\n"
     ]
    }
   ],
   "source": [
    "import pandas as pd\n",
    "import statsmodels.api as sm\n",
    "from statsmodels.formula.api import ols\n",
    "\n",
    "# Load your data\n",
    "# data = pd.read_csv('your_data.csv')\n",
    "\n",
    "# Fit the model\n",
    "model = ols('GPA ~ C(Schedule)', data=df).fit()\n",
    "\n",
    "# Perform ANOVA\n",
    "anova_results = sm.stats.anova_lm(model, typ=2)\n",
    "\n",
    "# Print the results\n",
    "print(anova_results)"
   ]
  },
  {
   "cell_type": "code",
   "execution_count": 28,
   "metadata": {},
   "outputs": [
    {
     "name": "stdout",
     "output_type": "stream",
     "text": [
      "(array([False,  True]), array([35,  1]))\n"
     ]
    }
   ],
   "source": [
    "from statsmodels.stats.multicomp import pairwise_tukeyhsd\n",
    "import statsmodels.api as sm\n",
    "\n",
    "tukey = pairwise_tukeyhsd(endog=df['nDCG'],     \n",
    "                          groups=df['Schedule'],    \n",
    "                          alpha=0.05)          \n",
    "\n",
    "\n",
    "tukey_df = pd.DataFrame(data=tukey._results_table.data[1:], columns=tukey._results_table.data[0])\n",
    "print(np.unique(tukey_df['reject'], return_counts=True))"
   ]
  },
  {
   "cell_type": "code",
   "execution_count": 26,
   "metadata": {},
   "outputs": [],
   "source": [
    "import numpy as np\n",
    "def get_req_samples(row, metric):\n",
    "    schedule_a = list(df[df['Schedule']==row['group1']][metric])\n",
    "    schedule_b = list(df[df['Schedule']==row['group2']][metric])\n",
    "    d = cohen_d(schedule_a, schedule_b)\n",
    "    effect_size = d\n",
    "    alpha = 0.05       \n",
    "    power = 0.8        \n",
    "    ratio = 1          \n",
    "    sample_size = smp.TTestIndPower().solve_power(effect_size=effect_size,\n",
    "                                                power=power,\n",
    "                                                alpha=alpha,\n",
    "                                                ratio=ratio,\n",
    "                                                alternative='two-sided')\n",
    "    if type(sample_size) == np.ndarray:\n",
    "        return round(sample_size[0],2)\n",
    "    return round(sample_size, 2)"
   ]
  },
  {
   "cell_type": "code",
   "execution_count": 267,
   "metadata": {},
   "outputs": [
    {
     "name": "stderr",
     "output_type": "stream",
     "text": [
      "/opt/anaconda3/envs/pytorchbook/lib/python3.10/site-packages/statsmodels/stats/power.py:525: ConvergenceWarning: \n",
      "Failed to converge on a solution.\n",
      "\n",
      "  warnings.warn(convergence_doc, ConvergenceWarning)\n",
      "/opt/anaconda3/envs/pytorchbook/lib/python3.10/site-packages/statsmodels/stats/power.py:525: ConvergenceWarning: \n",
      "Failed to converge on a solution.\n",
      "\n",
      "  warnings.warn(convergence_doc, ConvergenceWarning)\n",
      "/opt/anaconda3/envs/pytorchbook/lib/python3.10/site-packages/statsmodels/stats/power.py:525: ConvergenceWarning: \n",
      "Failed to converge on a solution.\n",
      "\n",
      "  warnings.warn(convergence_doc, ConvergenceWarning)\n",
      "/opt/anaconda3/envs/pytorchbook/lib/python3.10/site-packages/statsmodels/stats/power.py:525: ConvergenceWarning: \n",
      "Failed to converge on a solution.\n",
      "\n",
      "  warnings.warn(convergence_doc, ConvergenceWarning)\n",
      "/opt/anaconda3/envs/pytorchbook/lib/python3.10/site-packages/statsmodels/stats/power.py:525: ConvergenceWarning: \n",
      "Failed to converge on a solution.\n",
      "\n",
      "  warnings.warn(convergence_doc, ConvergenceWarning)\n",
      "/opt/anaconda3/envs/pytorchbook/lib/python3.10/site-packages/statsmodels/stats/power.py:525: ConvergenceWarning: \n",
      "Failed to converge on a solution.\n",
      "\n",
      "  warnings.warn(convergence_doc, ConvergenceWarning)\n",
      "/opt/anaconda3/envs/pytorchbook/lib/python3.10/site-packages/statsmodels/stats/power.py:525: ConvergenceWarning: \n",
      "Failed to converge on a solution.\n",
      "\n",
      "  warnings.warn(convergence_doc, ConvergenceWarning)\n",
      "/opt/anaconda3/envs/pytorchbook/lib/python3.10/site-packages/statsmodels/stats/power.py:525: ConvergenceWarning: \n",
      "Failed to converge on a solution.\n",
      "\n",
      "  warnings.warn(convergence_doc, ConvergenceWarning)\n",
      "/opt/anaconda3/envs/pytorchbook/lib/python3.10/site-packages/statsmodels/stats/power.py:525: ConvergenceWarning: \n",
      "Failed to converge on a solution.\n",
      "\n",
      "  warnings.warn(convergence_doc, ConvergenceWarning)\n",
      "/opt/anaconda3/envs/pytorchbook/lib/python3.10/site-packages/statsmodels/stats/power.py:525: ConvergenceWarning: \n",
      "Failed to converge on a solution.\n",
      "\n",
      "  warnings.warn(convergence_doc, ConvergenceWarning)\n",
      "/opt/anaconda3/envs/pytorchbook/lib/python3.10/site-packages/statsmodels/stats/power.py:525: ConvergenceWarning: \n",
      "Failed to converge on a solution.\n",
      "\n",
      "  warnings.warn(convergence_doc, ConvergenceWarning)\n",
      "/opt/anaconda3/envs/pytorchbook/lib/python3.10/site-packages/statsmodels/stats/power.py:525: ConvergenceWarning: \n",
      "Failed to converge on a solution.\n",
      "\n",
      "  warnings.warn(convergence_doc, ConvergenceWarning)\n",
      "/opt/anaconda3/envs/pytorchbook/lib/python3.10/site-packages/statsmodels/stats/power.py:525: ConvergenceWarning: \n",
      "Failed to converge on a solution.\n",
      "\n",
      "  warnings.warn(convergence_doc, ConvergenceWarning)\n",
      "/opt/anaconda3/envs/pytorchbook/lib/python3.10/site-packages/statsmodels/stats/power.py:525: ConvergenceWarning: \n",
      "Failed to converge on a solution.\n",
      "\n",
      "  warnings.warn(convergence_doc, ConvergenceWarning)\n",
      "/opt/anaconda3/envs/pytorchbook/lib/python3.10/site-packages/statsmodels/stats/power.py:525: ConvergenceWarning: \n",
      "Failed to converge on a solution.\n",
      "\n",
      "  warnings.warn(convergence_doc, ConvergenceWarning)\n",
      "/opt/anaconda3/envs/pytorchbook/lib/python3.10/site-packages/statsmodels/stats/power.py:525: ConvergenceWarning: \n",
      "Failed to converge on a solution.\n",
      "\n",
      "  warnings.warn(convergence_doc, ConvergenceWarning)\n",
      "/opt/anaconda3/envs/pytorchbook/lib/python3.10/site-packages/statsmodels/stats/power.py:525: ConvergenceWarning: \n",
      "Failed to converge on a solution.\n",
      "\n",
      "  warnings.warn(convergence_doc, ConvergenceWarning)\n",
      "/opt/anaconda3/envs/pytorchbook/lib/python3.10/site-packages/statsmodels/stats/power.py:525: ConvergenceWarning: \n",
      "Failed to converge on a solution.\n",
      "\n",
      "  warnings.warn(convergence_doc, ConvergenceWarning)\n",
      "/opt/anaconda3/envs/pytorchbook/lib/python3.10/site-packages/statsmodels/stats/power.py:525: ConvergenceWarning: \n",
      "Failed to converge on a solution.\n",
      "\n",
      "  warnings.warn(convergence_doc, ConvergenceWarning)\n",
      "/opt/anaconda3/envs/pytorchbook/lib/python3.10/site-packages/statsmodels/stats/power.py:525: ConvergenceWarning: \n",
      "Failed to converge on a solution.\n",
      "\n",
      "  warnings.warn(convergence_doc, ConvergenceWarning)\n",
      "/opt/anaconda3/envs/pytorchbook/lib/python3.10/site-packages/statsmodels/stats/power.py:525: ConvergenceWarning: \n",
      "Failed to converge on a solution.\n",
      "\n",
      "  warnings.warn(convergence_doc, ConvergenceWarning)\n",
      "/opt/anaconda3/envs/pytorchbook/lib/python3.10/site-packages/statsmodels/stats/power.py:525: ConvergenceWarning: \n",
      "Failed to converge on a solution.\n",
      "\n",
      "  warnings.warn(convergence_doc, ConvergenceWarning)\n",
      "/opt/anaconda3/envs/pytorchbook/lib/python3.10/site-packages/statsmodels/stats/power.py:525: ConvergenceWarning: \n",
      "Failed to converge on a solution.\n",
      "\n",
      "  warnings.warn(convergence_doc, ConvergenceWarning)\n"
     ]
    }
   ],
   "source": [
    "from statsmodels.stats.multicomp import pairwise_tukeyhsd\n",
    "import statsmodels.api as sm\n",
    "full_tukey = pd.DataFrame()\n",
    "for metric in ['nDCG', 'rND', 'GPA']:\n",
    "    tukey = pairwise_tukeyhsd(endog=df[metric],     \n",
    "                            groups=df['Schedule'],    \n",
    "                            alpha=0.05)          \n",
    "    tukey_df = pd.DataFrame(data=tukey._results_table.data[1:], columns=tukey._results_table.data[0])\n",
    "    tukey_df['needed samples'] = tukey_df.apply(get_req_samples, args=(metric,), axis=1)\n",
    "    full_tukey = pd.concat([full_tukey, tukey_df], axis=0)\n",
    "full_tukey.to_csv('tukey_hsd_result_adult.csv', index=False)"
   ]
  },
  {
   "cell_type": "code",
   "execution_count": 228,
   "metadata": {},
   "outputs": [],
   "source": [
    "a = '[1; 3]'\n",
    "b = '[3; 1]'\n",
    "schedule_a = list(df[df['Schedule']==a]['rND'])\n",
    "schedule_b = list(df[df['Schedule']==b]['rND'])"
   ]
  },
  {
   "cell_type": "code",
   "execution_count": null,
   "metadata": {},
   "outputs": [],
   "source": []
  },
  {
   "cell_type": "code",
   "execution_count": 175,
   "metadata": {},
   "outputs": [
    {
     "data": {
      "text/html": [
       "<div>\n",
       "<style scoped>\n",
       "    .dataframe tbody tr th:only-of-type {\n",
       "        vertical-align: middle;\n",
       "    }\n",
       "\n",
       "    .dataframe tbody tr th {\n",
       "        vertical-align: top;\n",
       "    }\n",
       "\n",
       "    .dataframe thead th {\n",
       "        text-align: right;\n",
       "    }\n",
       "</style>\n",
       "<table border=\"1\" class=\"dataframe\">\n",
       "  <thead>\n",
       "    <tr style=\"text-align: right;\">\n",
       "      <th></th>\n",
       "      <th>nDCG</th>\n",
       "      <th>AUC</th>\n",
       "      <th>rND</th>\n",
       "      <th>GPA</th>\n",
       "    </tr>\n",
       "  </thead>\n",
       "  <tbody>\n",
       "    <tr>\n",
       "      <th>count</th>\n",
       "      <td>30.000000</td>\n",
       "      <td>30.000000</td>\n",
       "      <td>30.000000</td>\n",
       "      <td>30.000000</td>\n",
       "    </tr>\n",
       "    <tr>\n",
       "      <th>mean</th>\n",
       "      <td>0.894415</td>\n",
       "      <td>0.896448</td>\n",
       "      <td>0.320257</td>\n",
       "      <td>0.109946</td>\n",
       "    </tr>\n",
       "    <tr>\n",
       "      <th>std</th>\n",
       "      <td>0.019164</td>\n",
       "      <td>0.003807</td>\n",
       "      <td>0.016197</td>\n",
       "      <td>0.015905</td>\n",
       "    </tr>\n",
       "    <tr>\n",
       "      <th>min</th>\n",
       "      <td>0.858409</td>\n",
       "      <td>0.886894</td>\n",
       "      <td>0.293366</td>\n",
       "      <td>0.073573</td>\n",
       "    </tr>\n",
       "    <tr>\n",
       "      <th>25%</th>\n",
       "      <td>0.881513</td>\n",
       "      <td>0.894201</td>\n",
       "      <td>0.308873</td>\n",
       "      <td>0.102632</td>\n",
       "    </tr>\n",
       "    <tr>\n",
       "      <th>50%</th>\n",
       "      <td>0.897801</td>\n",
       "      <td>0.897537</td>\n",
       "      <td>0.319651</td>\n",
       "      <td>0.108673</td>\n",
       "    </tr>\n",
       "    <tr>\n",
       "      <th>75%</th>\n",
       "      <td>0.908295</td>\n",
       "      <td>0.899232</td>\n",
       "      <td>0.331910</td>\n",
       "      <td>0.120682</td>\n",
       "    </tr>\n",
       "    <tr>\n",
       "      <th>max</th>\n",
       "      <td>0.931348</td>\n",
       "      <td>0.904315</td>\n",
       "      <td>0.357845</td>\n",
       "      <td>0.141350</td>\n",
       "    </tr>\n",
       "  </tbody>\n",
       "</table>\n",
       "</div>"
      ],
      "text/plain": [
       "            nDCG        AUC        rND        GPA\n",
       "count  30.000000  30.000000  30.000000  30.000000\n",
       "mean    0.894415   0.896448   0.320257   0.109946\n",
       "std     0.019164   0.003807   0.016197   0.015905\n",
       "min     0.858409   0.886894   0.293366   0.073573\n",
       "25%     0.881513   0.894201   0.308873   0.102632\n",
       "50%     0.897801   0.897537   0.319651   0.108673\n",
       "75%     0.908295   0.899232   0.331910   0.120682\n",
       "max     0.931348   0.904315   0.357845   0.141350"
      ]
     },
     "execution_count": 175,
     "metadata": {},
     "output_type": "execute_result"
    }
   ],
   "source": [
    "df[df['Schedule']=='[4; 1]'].describe()"
   ]
  },
  {
   "cell_type": "markdown",
   "metadata": {},
   "source": [
    "### To check if the data is normal the Shapiro Wilk test will be performed"
   ]
  },
  {
   "cell_type": "code",
   "execution_count": 5,
   "metadata": {},
   "outputs": [
    {
     "name": "stdout",
     "output_type": "stream",
     "text": [
      "Shapiro-Wilk Test for AUC in Schedule [1; 1]: Statistic=0.9349406361579895, p-value=0.06651399284601212\n",
      "\tNull hypothesis not rejected - data is normal\n",
      "Shapiro-Wilk Test for AUC in Schedule [1; 2]: Statistic=0.9599834680557251, p-value=0.3094736635684967\n",
      "\tNull hypothesis not rejected - data is normal\n",
      "Shapiro-Wilk Test for AUC in Schedule [2; 1]: Statistic=0.9556882977485657, p-value=0.23942343890666962\n",
      "\tNull hypothesis not rejected - data is normal\n",
      "Shapiro-Wilk Test for AUC in Schedule [1; 3]: Statistic=0.8904260993003845, p-value=0.004937667399644852\n",
      "\tNull hypothesis rejected - data is not normal\n",
      "Shapiro-Wilk Test for AUC in Schedule [3; 1]: Statistic=0.9857069849967957, p-value=0.958173930644989\n",
      "\tNull hypothesis not rejected - data is normal\n",
      "Shapiro-Wilk Test for Accuracy in Schedule [1; 1]: Statistic=0.9711225032806396, p-value=0.570326566696167\n",
      "\tNull hypothesis not rejected - data is normal\n",
      "Shapiro-Wilk Test for Accuracy in Schedule [1; 2]: Statistic=0.8644814491271973, p-value=0.001265653525479138\n",
      "\tNull hypothesis rejected - data is not normal\n",
      "Shapiro-Wilk Test for Accuracy in Schedule [2; 1]: Statistic=0.8956567645072937, p-value=0.00658709229901433\n",
      "\tNull hypothesis rejected - data is not normal\n",
      "Shapiro-Wilk Test for Accuracy in Schedule [1; 3]: Statistic=0.6311526298522949, p-value=1.7910501526330336e-07\n",
      "\tNull hypothesis rejected - data is not normal\n",
      "Shapiro-Wilk Test for Accuracy in Schedule [3; 1]: Statistic=0.9808027148246765, p-value=0.8691792488098145\n",
      "\tNull hypothesis not rejected - data is normal\n",
      "Shapiro-Wilk Test for rND in Schedule [1; 1]: Statistic=0.9747948050498962, p-value=0.6766831278800964\n",
      "\tNull hypothesis not rejected - data is normal\n",
      "Shapiro-Wilk Test for rND in Schedule [1; 2]: Statistic=0.9408369660377502, p-value=0.09580545127391815\n",
      "\tNull hypothesis not rejected - data is normal\n",
      "Shapiro-Wilk Test for rND in Schedule [2; 1]: Statistic=0.9695808291435242, p-value=0.5277703404426575\n",
      "\tNull hypothesis not rejected - data is normal\n",
      "Shapiro-Wilk Test for rND in Schedule [1; 3]: Statistic=0.9815921187400818, p-value=0.8661264181137085\n",
      "\tNull hypothesis not rejected - data is normal\n",
      "Shapiro-Wilk Test for rND in Schedule [3; 1]: Statistic=0.9832046031951904, p-value=0.9189000725746155\n",
      "\tNull hypothesis not rejected - data is normal\n",
      "Shapiro-Wilk Test for GPA in Schedule [1; 1]: Statistic=0.97269606590271, p-value=0.615263819694519\n",
      "\tNull hypothesis not rejected - data is normal\n",
      "Shapiro-Wilk Test for GPA in Schedule [1; 2]: Statistic=0.9197585582733154, p-value=0.026436947286128998\n",
      "\tNull hypothesis rejected - data is not normal\n",
      "Shapiro-Wilk Test for GPA in Schedule [2; 1]: Statistic=0.9682736396789551, p-value=0.49308520555496216\n",
      "\tNull hypothesis not rejected - data is normal\n",
      "Shapiro-Wilk Test for GPA in Schedule [1; 3]: Statistic=0.9483457207679749, p-value=0.15263701975345612\n",
      "\tNull hypothesis not rejected - data is normal\n",
      "Shapiro-Wilk Test for GPA in Schedule [3; 1]: Statistic=0.9686217904090881, p-value=0.5441583395004272\n",
      "\tNull hypothesis not rejected - data is normal\n"
     ]
    }
   ],
   "source": [
    "# Perform the test for nDCG\n",
    "perform_shapiro_test(df, 'AUC')\n",
    "\n",
    "perform_shapiro_test(df, 'Accuracy')\n",
    "\n",
    "# Perform the test for rND\n",
    "perform_shapiro_test(df, 'rND')\n",
    "\n",
    "# Perform the test for GPA\n",
    "perform_shapiro_test(df, 'GPA')"
   ]
  },
  {
   "cell_type": "markdown",
   "metadata": {},
   "source": [
    "### Now calculate Cohen's d to validate that the sample size is enough"
   ]
  },
  {
   "cell_type": "code",
   "execution_count": 265,
   "metadata": {},
   "outputs": [
    {
     "name": "stdout",
     "output_type": "stream",
     "text": [
      "Cohen's d: 6.738201893522704\n"
     ]
    },
    {
     "name": "stderr",
     "output_type": "stream",
     "text": [
      "/opt/anaconda3/envs/pytorchbook/lib/python3.10/site-packages/statsmodels/stats/power.py:525: ConvergenceWarning: \n",
      "Failed to converge on a solution.\n",
      "\n",
      "  warnings.warn(convergence_doc, ConvergenceWarning)\n"
     ]
    },
    {
     "ename": "TypeError",
     "evalue": "unsupported format string passed to numpy.ndarray.__format__",
     "output_type": "error",
     "traceback": [
      "\u001b[0;31m---------------------------------------------------------------------------\u001b[0m",
      "\u001b[0;31mTypeError\u001b[0m                                 Traceback (most recent call last)",
      "\u001b[1;32m/Users/robert/Desktop/Bachelor/FairRanker/InterpretingResults/t_test.ipynb Cell 13\u001b[0m line \u001b[0;36m1\n\u001b[1;32m     <a href='vscode-notebook-cell:/Users/robert/Desktop/Bachelor/FairRanker/InterpretingResults/t_test.ipynb#X11sZmlsZQ%3D%3D?line=11'>12</a>\u001b[0m \u001b[39m# Calculate the sample size\u001b[39;00m\n\u001b[1;32m     <a href='vscode-notebook-cell:/Users/robert/Desktop/Bachelor/FairRanker/InterpretingResults/t_test.ipynb#X11sZmlsZQ%3D%3D?line=12'>13</a>\u001b[0m sample_size \u001b[39m=\u001b[39m smp\u001b[39m.\u001b[39mTTestIndPower()\u001b[39m.\u001b[39msolve_power(effect_size\u001b[39m=\u001b[39meffect_size,\n\u001b[1;32m     <a href='vscode-notebook-cell:/Users/robert/Desktop/Bachelor/FairRanker/InterpretingResults/t_test.ipynb#X11sZmlsZQ%3D%3D?line=13'>14</a>\u001b[0m                                               power\u001b[39m=\u001b[39mpower,\n\u001b[1;32m     <a href='vscode-notebook-cell:/Users/robert/Desktop/Bachelor/FairRanker/InterpretingResults/t_test.ipynb#X11sZmlsZQ%3D%3D?line=14'>15</a>\u001b[0m                                               alpha\u001b[39m=\u001b[39malpha,\n\u001b[1;32m     <a href='vscode-notebook-cell:/Users/robert/Desktop/Bachelor/FairRanker/InterpretingResults/t_test.ipynb#X11sZmlsZQ%3D%3D?line=15'>16</a>\u001b[0m                                               ratio\u001b[39m=\u001b[39mratio,\n\u001b[1;32m     <a href='vscode-notebook-cell:/Users/robert/Desktop/Bachelor/FairRanker/InterpretingResults/t_test.ipynb#X11sZmlsZQ%3D%3D?line=16'>17</a>\u001b[0m                                               alternative\u001b[39m=\u001b[39m\u001b[39m'\u001b[39m\u001b[39mtwo-sided\u001b[39m\u001b[39m'\u001b[39m)\n\u001b[0;32m---> <a href='vscode-notebook-cell:/Users/robert/Desktop/Bachelor/FairRanker/InterpretingResults/t_test.ipynb#X11sZmlsZQ%3D%3D?line=18'>19</a>\u001b[0m \u001b[39mprint\u001b[39m(\u001b[39mf\u001b[39m\u001b[39m\"\u001b[39m\u001b[39mRequired sample size: \u001b[39m\u001b[39m{\u001b[39;00msample_size\u001b[39m:\u001b[39;00m\u001b[39m.2f\u001b[39m\u001b[39m}\u001b[39;00m\u001b[39m per group\u001b[39m\u001b[39m\"\u001b[39m)\n",
      "\u001b[0;31mTypeError\u001b[0m: unsupported format string passed to numpy.ndarray.__format__"
     ]
    }
   ],
   "source": [
    "a = '[1; 1]'\n",
    "b = '[1; 3]'\n",
    "schedule_a = list(df[df['Schedule']==a]['rND'])\n",
    "schedule_b = list(df[df['Schedule']==b]['rND'])\n",
    "d = cohen_d(schedule_a, schedule_b)\n",
    "print(\"Cohen's d:\", d)\n",
    "effect_size = d\n",
    "alpha = 0.05       \n",
    "power = 0.8        \n",
    "ratio = 1          \n",
    "\n",
    "# Calculate the sample size\n",
    "sample_size = smp.TTestIndPower().solve_power(effect_size=effect_size,\n",
    "                                              power=power,\n",
    "                                              alpha=alpha,\n",
    "                                              ratio=ratio,\n",
    "                                              alternative='two-sided')\n",
    "\n",
    "print(f\"Required sample size: {sample_size:.2f} per group\")"
   ]
  },
  {
   "cell_type": "code",
   "execution_count": 222,
   "metadata": {},
   "outputs": [
    {
     "name": "stdout",
     "output_type": "stream",
     "text": [
      "0.00030458076014656883\n",
      "Reject the null hypothesis - suggest the means are different\n"
     ]
    }
   ],
   "source": [
    "#schedule_a = list(df[df['Schedule']==a]['GPA'])\n",
    "#schedule_b = list(df[df['Schedule']==b]['GPA'])\n",
    "# Perform the t-test\n",
    "t_stat, p_value = stats.ttest_ind(schedule_a, schedule_b)\n",
    "\n",
    "# Check significance\n",
    "alpha = 0.05\n",
    "print(p_value)\n",
    "if p_value < alpha:\n",
    "    print(\"Reject the null hypothesis - suggest the means are different\")\n",
    "else:\n",
    "    print(\"Do not reject the null hypothesis - no suggestion that the means are different\")"
   ]
  },
  {
   "cell_type": "code",
   "execution_count": 111,
   "metadata": {},
   "outputs": [
    {
     "data": {
      "text/plain": [
       "0.1539389090297381"
      ]
     },
     "execution_count": 111,
     "metadata": {},
     "output_type": "execute_result"
    }
   ],
   "source": [
    "df = pd.read_csv('../Results/DirectRankerAdv/Adult/Schedule02/results.csv')\n",
    "schedule_a = df['rND']\n",
    "schedule_b = df['nDCG']\n",
    "schedule_a.corr(schedule_b)"
   ]
  },
  {
   "cell_type": "code",
   "execution_count": 132,
   "metadata": {},
   "outputs": [
    {
     "name": "stdout",
     "output_type": "stream",
     "text": [
      "Adult rND -1.9202137804038244\n",
      "Adult nDCG -0.17682935945225622\n",
      "Adult GPA -1.334112554679777\n",
      "Compas rND 0.26386589595727755\n",
      "Compas nDCG 0.7686730256062904\n",
      "Compas GPA -0.09333426672490412\n",
      "Law-Gender rND 0.16076896224569637\n",
      "Law-Gender nDCG -0.47478062125078135\n",
      "Law-Gender GPA 0.20609377504365367\n"
     ]
    }
   ],
   "source": [
    "import numpy as np\n",
    "datasets = ['Adult', 'Compas', 'Law-Gender']#, 'Law-Race']\n",
    "full_df = pd.DataFrame(columns=[\n",
    "    'Dataset',\n",
    "    'Schedule',\n",
    "    'Cohen rND',\n",
    "    'Cohen nDCG',\n",
    "    'Cohen GPA',\n",
    "    'p rND',\n",
    "    'p nDCG',\n",
    "    'p GPA',\n",
    "    'mean GPA',\n",
    "    'mean rND',\n",
    "    'mean nDCG'\n",
    "    ])\n",
    "full_df.set_index('Dataset', inplace=True)\n",
    "for dataset in datasets:\n",
    "    df = pd.read_csv(f'../Results/DirectRankerAdv/{dataset}/T-Test/results.csv')\n",
    "    means_a = {}\n",
    "    means_b = {}\n",
    "    ps = {}\n",
    "    cohens = {}\n",
    "    for metric in ['rND', 'nDCG', 'GPA']:\n",
    "        schedule_a = list(df[df['Schedule']==a][metric])\n",
    "        schedule_b = list(df[df['Schedule']==b][metric])\n",
    "        cohens[metric] = cohen_d(schedule_a, schedule_b)\n",
    "        print(dataset, metric, cohen_d(schedule_a, schedule_b))\n",
    "        t_stat, p_value = stats.ttest_ind(schedule_a, schedule_b)\n",
    "        ps[metric] = p_value\n",
    "        means_a[metric] = np.mean(schedule_a)\n",
    "        means_b[metric] = np.mean(schedule_b)\n",
    "    new_row_a = pd.DataFrame({\n",
    "            'Dataset': [dataset],\n",
    "            'Schedule': [a],\n",
    "            'Cohen rND': [cohens['rND']],\n",
    "            'Cohen nDCG': [cohens['nDCG']],\n",
    "            'Cohen GPA': [cohens['GPA']],\n",
    "            'p rND': [ps['rND']],\n",
    "            'p nDCG': [ps['nDCG']],\n",
    "            'p GPA': [ps['GPA']],\n",
    "            'mean GPA': [means_a['GPA']],\n",
    "            'mean rND': [means_a['rND']],\n",
    "            'mean nDCG': [means_a['nDCG']]\n",
    "    }\n",
    "    )\n",
    "    new_row_a.set_index('Dataset', inplace=True)\n",
    "    new_row_b = pd.DataFrame({\n",
    "            'Dataset': [dataset],\n",
    "            'Schedule': [b],\n",
    "            'Cohen rND': [cohens['rND']],\n",
    "            'Cohen nDCG': [cohens['nDCG']],\n",
    "            'Cohen GPA': [cohens['GPA']],\n",
    "            'p rND': [ps['rND']],\n",
    "            'p nDCG': [ps['nDCG']],\n",
    "            'p GPA': [ps['GPA']],\n",
    "            'mean GPA': [means_b['GPA']],\n",
    "            'mean rND': [means_b['rND']],\n",
    "            'mean nDCG': [means_b['nDCG']]\n",
    "    }\n",
    "    )\n",
    "    new_row_b.set_index('Dataset', inplace=True)\n",
    "    full_df = pd.concat([full_df, new_row_a])\n",
    "    full_df = pd.concat([full_df, new_row_b])\n",
    "full_df.to_csv('./comparingDatasets.csv', sep=',')\n",
    "        \n"
   ]
  },
  {
   "cell_type": "code",
   "execution_count": 135,
   "metadata": {},
   "outputs": [
    {
     "data": {
      "text/html": [
       "<div>\n",
       "<style scoped>\n",
       "    .dataframe tbody tr th:only-of-type {\n",
       "        vertical-align: middle;\n",
       "    }\n",
       "\n",
       "    .dataframe tbody tr th {\n",
       "        vertical-align: top;\n",
       "    }\n",
       "\n",
       "    .dataframe thead th {\n",
       "        text-align: right;\n",
       "    }\n",
       "</style>\n",
       "<table border=\"1\" class=\"dataframe\">\n",
       "  <thead>\n",
       "    <tr style=\"text-align: right;\">\n",
       "      <th></th>\n",
       "      <th>Cohen rND</th>\n",
       "      <th>Cohen nDCG</th>\n",
       "      <th>Cohen GPA</th>\n",
       "      <th>p rND</th>\n",
       "      <th>p nDCG</th>\n",
       "      <th>p GPA</th>\n",
       "      <th>mean GPA</th>\n",
       "      <th>mean rND</th>\n",
       "      <th>mean nDCG</th>\n",
       "    </tr>\n",
       "  </thead>\n",
       "  <tbody>\n",
       "    <tr>\n",
       "      <th>count</th>\n",
       "      <td>6.000000</td>\n",
       "      <td>6.000000</td>\n",
       "      <td>6.000000</td>\n",
       "      <td>6.000000e+00</td>\n",
       "      <td>6.000000</td>\n",
       "      <td>6.000000</td>\n",
       "      <td>6.000000</td>\n",
       "      <td>6.000000</td>\n",
       "      <td>6.000000</td>\n",
       "    </tr>\n",
       "    <tr>\n",
       "      <th>mean</th>\n",
       "      <td>-0.498526</td>\n",
       "      <td>0.039021</td>\n",
       "      <td>-0.407118</td>\n",
       "      <td>2.823335e-01</td>\n",
       "      <td>0.190489</td>\n",
       "      <td>0.382356</td>\n",
       "      <td>0.079502</td>\n",
       "      <td>0.215305</td>\n",
       "      <td>0.790362</td>\n",
       "    </tr>\n",
       "    <tr>\n",
       "      <th>std</th>\n",
       "      <td>1.102199</td>\n",
       "      <td>0.580681</td>\n",
       "      <td>0.730427</td>\n",
       "      <td>2.407147e-01</td>\n",
       "      <td>0.238652</td>\n",
       "      <td>0.323508</td>\n",
       "      <td>0.072348</td>\n",
       "      <td>0.123240</td>\n",
       "      <td>0.104500</td>\n",
       "    </tr>\n",
       "    <tr>\n",
       "      <th>min</th>\n",
       "      <td>-1.920214</td>\n",
       "      <td>-0.474781</td>\n",
       "      <td>-1.334113</td>\n",
       "      <td>5.402756e-10</td>\n",
       "      <td>0.004241</td>\n",
       "      <td>0.000003</td>\n",
       "      <td>0.002240</td>\n",
       "      <td>0.055451</td>\n",
       "      <td>0.654984</td>\n",
       "    </tr>\n",
       "    <tr>\n",
       "      <th>25%</th>\n",
       "      <td>-1.399968</td>\n",
       "      <td>-0.400293</td>\n",
       "      <td>-1.023918</td>\n",
       "      <td>7.776229e-02</td>\n",
       "      <td>0.020946</td>\n",
       "      <td>0.107005</td>\n",
       "      <td>0.017392</td>\n",
       "      <td>0.112006</td>\n",
       "      <td>0.707240</td>\n",
       "    </tr>\n",
       "    <tr>\n",
       "      <th>50%</th>\n",
       "      <td>0.160769</td>\n",
       "      <td>-0.176829</td>\n",
       "      <td>-0.093334</td>\n",
       "      <td>3.110492e-01</td>\n",
       "      <td>0.071063</td>\n",
       "      <td>0.428012</td>\n",
       "      <td>0.073068</td>\n",
       "      <td>0.284929</td>\n",
       "      <td>0.812608</td>\n",
       "    </tr>\n",
       "    <tr>\n",
       "      <th>75%</th>\n",
       "      <td>0.238092</td>\n",
       "      <td>0.532297</td>\n",
       "      <td>0.131237</td>\n",
       "      <td>4.797259e-01</td>\n",
       "      <td>0.389887</td>\n",
       "      <td>0.646292</td>\n",
       "      <td>0.142571</td>\n",
       "      <td>0.298402</td>\n",
       "      <td>0.873830</td>\n",
       "    </tr>\n",
       "    <tr>\n",
       "      <th>max</th>\n",
       "      <td>0.263866</td>\n",
       "      <td>0.768673</td>\n",
       "      <td>0.206094</td>\n",
       "      <td>5.359515e-01</td>\n",
       "      <td>0.496162</td>\n",
       "      <td>0.719053</td>\n",
       "      <td>0.164061</td>\n",
       "      <td>0.309265</td>\n",
       "      <td>0.895621</td>\n",
       "    </tr>\n",
       "  </tbody>\n",
       "</table>\n",
       "</div>"
      ],
      "text/plain": [
       "       Cohen rND  Cohen nDCG  Cohen GPA         p rND    p nDCG     p GPA  \\\n",
       "count   6.000000    6.000000   6.000000  6.000000e+00  6.000000  6.000000   \n",
       "mean   -0.498526    0.039021  -0.407118  2.823335e-01  0.190489  0.382356   \n",
       "std     1.102199    0.580681   0.730427  2.407147e-01  0.238652  0.323508   \n",
       "min    -1.920214   -0.474781  -1.334113  5.402756e-10  0.004241  0.000003   \n",
       "25%    -1.399968   -0.400293  -1.023918  7.776229e-02  0.020946  0.107005   \n",
       "50%     0.160769   -0.176829  -0.093334  3.110492e-01  0.071063  0.428012   \n",
       "75%     0.238092    0.532297   0.131237  4.797259e-01  0.389887  0.646292   \n",
       "max     0.263866    0.768673   0.206094  5.359515e-01  0.496162  0.719053   \n",
       "\n",
       "       mean GPA  mean rND  mean nDCG  \n",
       "count  6.000000  6.000000   6.000000  \n",
       "mean   0.079502  0.215305   0.790362  \n",
       "std    0.072348  0.123240   0.104500  \n",
       "min    0.002240  0.055451   0.654984  \n",
       "25%    0.017392  0.112006   0.707240  \n",
       "50%    0.073068  0.284929   0.812608  \n",
       "75%    0.142571  0.298402   0.873830  \n",
       "max    0.164061  0.309265   0.895621  "
      ]
     },
     "execution_count": 135,
     "metadata": {},
     "output_type": "execute_result"
    }
   ],
   "source": [
    "test_df = pd.read_csv('./comparingDatasets.csv')\n",
    "test_df.describe()"
   ]
  }
 ],
 "metadata": {
  "kernelspec": {
   "display_name": "pytorchbook",
   "language": "python",
   "name": "python3"
  },
  "language_info": {
   "codemirror_mode": {
    "name": "ipython",
    "version": 3
   },
   "file_extension": ".py",
   "mimetype": "text/x-python",
   "name": "python",
   "nbconvert_exporter": "python",
   "pygments_lexer": "ipython3",
   "version": "3.10.12"
  }
 },
 "nbformat": 4,
 "nbformat_minor": 2
}
